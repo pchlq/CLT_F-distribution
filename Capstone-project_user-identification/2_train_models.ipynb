{
 "cells": [
  {
   "cell_type": "code",
   "execution_count": 1,
   "metadata": {
    "ExecuteTime": {
     "end_time": "2019-10-16T12:03:17.342082Z",
     "start_time": "2019-10-16T12:03:17.335059Z"
    }
   },
   "outputs": [],
   "source": [
    "# pip install watermark\n",
    "%load_ext watermark"
   ]
  },
  {
   "cell_type": "code",
   "execution_count": 2,
   "metadata": {
    "ExecuteTime": {
     "end_time": "2019-10-16T12:03:17.637783Z",
     "start_time": "2019-10-16T12:03:17.343519Z"
    }
   },
   "outputs": [
    {
     "name": "stdout",
     "output_type": "stream",
     "text": [
      "CPython 3.7.3\n",
      "IPython 7.4.0\n",
      "\n",
      "numpy 1.14.5\n",
      "scipy 1.3.1\n",
      "pandas 0.24.2\n",
      "matplotlib 3.0.3\n",
      "statsmodels 0.9.0\n",
      "sklearn 0.20.3\n",
      "\n",
      "compiler   : GCC 7.3.0\n",
      "system     : Linux\n",
      "release    : 4.4.0-46-generic\n",
      "machine    : x86_64\n",
      "processor  : x86_64\n",
      "CPU cores  : 4\n",
      "interpreter: 64bit\n",
      "Git hash   :\n"
     ]
    }
   ],
   "source": [
    "%watermark -v -m -p numpy,scipy,pandas,matplotlib,statsmodels,sklearn -g"
   ]
  },
  {
   "cell_type": "code",
   "execution_count": 3,
   "metadata": {
    "ExecuteTime": {
     "end_time": "2019-10-16T12:03:18.066987Z",
     "start_time": "2019-10-16T12:03:17.640358Z"
    }
   },
   "outputs": [],
   "source": [
    "from __future__ import division, print_function\n",
    "# отключим всякие предупреждения Anaconda\n",
    "import warnings\n",
    "warnings.filterwarnings('ignore')\n",
    "import itertools\n",
    "import os\n",
    "from glob import glob\n",
    "import numpy as np\n",
    "import pandas as pd\n",
    "import copy\n",
    "from collections import Counter, deque\n",
    "import datetime\n",
    "%matplotlib inline\n",
    "from matplotlib import pyplot as plt\n",
    "import pickle\n",
    "from scipy.sparse import csr_matrix, hstack\n",
    "import concurrent.futures\n",
    "from sklearn.model_selection import train_test_split, cross_val_score, StratifiedKFold, GridSearchCV\n",
    "from sklearn.metrics import accuracy_score\n",
    "from sklearn.preprocessing import LabelEncoder\n",
    "from sklearn.neighbors import KNeighborsClassifier\n",
    "from sklearn.ensemble import RandomForestClassifier\n",
    "from sklearn.linear_model import LogisticRegression, LogisticRegressionCV, SGDClassifier\n",
    "from sklearn.svm import LinearSVC"
   ]
  },
  {
   "cell_type": "code",
   "execution_count": 4,
   "metadata": {
    "ExecuteTime": {
     "end_time": "2019-10-16T12:03:18.070711Z",
     "start_time": "2019-10-16T12:03:18.068491Z"
    }
   },
   "outputs": [],
   "source": [
    "PATH_TO_DATA = 'data/'"
   ]
  },
  {
   "cell_type": "markdown",
   "metadata": {},
   "source": [
    "# 1 Обучение модели"
   ]
  },
  {
   "cell_type": "markdown",
   "metadata": {},
   "source": [
    "## 1.1 Выбор модели"
   ]
  },
  {
   "cell_type": "markdown",
   "metadata": {},
   "source": [
    "Будем сравнивать модели на данных для 10 пользователей. Загружем сохраненную ранее разряженную матрицу. Сначала рассмотрим только базовые признаки сессий, т.е. те, которые получены с помощью модели мешка слов."
   ]
  },
  {
   "cell_type": "code",
   "execution_count": 5,
   "metadata": {
    "ExecuteTime": {
     "end_time": "2019-10-16T12:03:18.076770Z",
     "start_time": "2019-10-16T12:03:18.071952Z"
    }
   },
   "outputs": [],
   "source": [
    "with open(os.path.join(PATH_TO_DATA, 'X_sparse_10users_s10_w10.pkl'), 'rb') as file_obj:\n",
    "    X_sparse = pickle.load(file_obj)\n",
    "with open(os.path.join(PATH_TO_DATA, 'y_10users_s10_w10.pkl'), 'rb') as file_obj:\n",
    "    y = pickle.load(file_obj)"
   ]
  },
  {
   "cell_type": "markdown",
   "metadata": {},
   "source": [
    "Для оценки будем использовать кросс-валидацию с 3 фолдами."
   ]
  },
  {
   "cell_type": "code",
   "execution_count": 6,
   "metadata": {
    "ExecuteTime": {
     "end_time": "2019-10-16T12:03:18.080617Z",
     "start_time": "2019-10-16T12:03:18.077883Z"
    }
   },
   "outputs": [],
   "source": [
    "skf = StratifiedKFold(n_splits=3, shuffle=True, random_state=17)"
   ]
  },
  {
   "cell_type": "markdown",
   "metadata": {},
   "source": [
    "Разобьем выборку на 2 части. На одной будем проводить кросс-валидацию, на второй – оценивать модель, обученную после кросс-валидации."
   ]
  },
  {
   "cell_type": "code",
   "execution_count": 7,
   "metadata": {
    "ExecuteTime": {
     "end_time": "2019-10-16T12:03:18.089100Z",
     "start_time": "2019-10-16T12:03:18.082391Z"
    }
   },
   "outputs": [],
   "source": [
    "X_train, X_valid, y_train, y_valid = train_test_split(X_sparse, y, test_size=0.3, \n",
    "                                                    random_state=17, stratify=y)"
   ]
  },
  {
   "cell_type": "markdown",
   "metadata": {},
   "source": [
    "Обучим следующие алгоритмы классификации:\n",
    "- k-ближайших соседей\n",
    "- Случайный лес\n",
    "- Логистическая регрессия\n",
    "- Линейный SVM\n",
    "\n",
    "**k-ближайших соседей**"
   ]
  },
  {
   "cell_type": "code",
   "execution_count": 8,
   "metadata": {
    "ExecuteTime": {
     "end_time": "2019-10-16T12:03:20.643765Z",
     "start_time": "2019-10-16T12:03:18.091517Z"
    }
   },
   "outputs": [
    {
     "name": "stdout",
     "output_type": "stream",
     "text": [
      "Доля верных предсказаний KNeighborsClassifier на кросс-валидации: 0.565\n",
      "Доля верных предсказаний KNeighborsClassifier на валидации: 0.584\n"
     ]
    }
   ],
   "source": [
    "knn = KNeighborsClassifier(n_neighbors=100, n_jobs=-1) \n",
    "\n",
    "print( 'Доля верных предсказаний KNeighborsClassifier на кросс-валидации: %.3f' %\n",
    "       cross_val_score(knn, X_train, y_train, cv=skf, n_jobs=-1).mean() )\n",
    "\n",
    "print( 'Доля верных предсказаний KNeighborsClassifier на валидации: %.3f' %\n",
    "       accuracy_score(y_valid, knn.fit(X_train, y_train).predict(X_valid)) )"
   ]
  },
  {
   "cell_type": "markdown",
   "metadata": {},
   "source": [
    "**Случайный лес**"
   ]
  },
  {
   "cell_type": "code",
   "execution_count": 9,
   "metadata": {
    "ExecuteTime": {
     "end_time": "2019-10-16T12:03:30.228924Z",
     "start_time": "2019-10-16T12:03:20.646369Z"
    }
   },
   "outputs": [
    {
     "name": "stdout",
     "output_type": "stream",
     "text": [
      "Доля верных предсказаний RandomForestClassifier на кросс-валидации: 0.712\n",
      "Доля верных предсказаний RandomForestClassifier на валидации: 0.735\n"
     ]
    }
   ],
   "source": [
    "rf = RandomForestClassifier(n_estimators=100, random_state=17, oob_score=True, n_jobs=-1)\n",
    "\n",
    "print( 'Доля верных предсказаний RandomForestClassifier на кросс-валидации: %.3f' %\n",
    "       cross_val_score(rf, X_train, y_train, cv=skf, n_jobs=-1).mean() )\n",
    "\n",
    "print( 'Доля верных предсказаний RandomForestClassifier на валидации: %.3f' %\n",
    "       accuracy_score(y_valid, rf.fit(X_train, y_train).predict(X_valid)) )"
   ]
  },
  {
   "cell_type": "markdown",
   "metadata": {},
   "source": [
    "**Логистическая регрессия**"
   ]
  },
  {
   "cell_type": "code",
   "execution_count": 10,
   "metadata": {
    "ExecuteTime": {
     "end_time": "2019-10-16T12:03:35.243810Z",
     "start_time": "2019-10-16T12:03:30.231367Z"
    }
   },
   "outputs": [
    {
     "name": "stdout",
     "output_type": "stream",
     "text": [
      "Доля верных предсказаний LogisticRegression на кросс-валидации: 0.759\n",
      "Доля верных предсказаний LogisticRegression на валидации: 0.777\n"
     ]
    }
   ],
   "source": [
    "log_reg = LogisticRegression(random_state=17, n_jobs=-1, solver='lbfgs', multi_class='multinomial')\n",
    "\n",
    "print( 'Доля верных предсказаний LogisticRegression на кросс-валидации: %.3f' %\n",
    "       cross_val_score(log_reg, X_train, y_train, cv=skf, n_jobs=-1).mean() )\n",
    "\n",
    "print( 'Доля верных предсказаний LogisticRegression на валидации: %.3f' %\n",
    "       accuracy_score(y_valid, log_reg.fit(X_train, y_train).predict(X_valid)) ) "
   ]
  },
  {
   "cell_type": "markdown",
   "metadata": {},
   "source": [
    "Для логистической регрессии подберем оптимальное значение коэффициента регуляризации `C`."
   ]
  },
  {
   "cell_type": "code",
   "execution_count": 11,
   "metadata": {
    "ExecuteTime": {
     "end_time": "2019-10-16T12:05:35.639115Z",
     "start_time": "2019-10-16T12:03:35.245375Z"
    }
   },
   "outputs": [
    {
     "name": "stdout",
     "output_type": "stream",
     "text": [
      "Лучшее значение параметра C для модели LogisticRegression: 0.929\n",
      "Доля верных предсказаний лучшей модели LogisticRegression на кросс-валидации: 0.759\n",
      "Доля верных предсказаний лучшей модели LogisticRegression на валидации: 0.776\n"
     ]
    }
   ],
   "source": [
    "logit_c_values = np.linspace(0.5, 1.5, 50)\n",
    "\n",
    "logit_grid_searcher = LogisticRegressionCV( Cs=logit_c_values,\n",
    "                                            solver='lbfgs',\n",
    "                                            cv=skf,\n",
    "                                            n_jobs=-1,\n",
    "                                            multi_class='multinomial',\n",
    "                                            random_state=17)\n",
    "logit_grid_searcher.fit(X_train, y_train)\n",
    "logit_mean_cv_scores = logit_grid_searcher.scores_.popitem()[1].mean(axis=0)\n",
    "\n",
    "print('Лучшее значение параметра C для модели LogisticRegression: %.3f' %\n",
    "      logit_grid_searcher.Cs_[np.argmax(logit_mean_cv_scores)])\n",
    "\n",
    "print('Доля верных предсказаний лучшей модели LogisticRegression на кросс-валидации: %.3f' % \n",
    "       np.max(logit_mean_cv_scores))\n",
    "\n",
    "print('Доля верных предсказаний лучшей модели LogisticRegression на валидации: %.3f' %\n",
    "      accuracy_score(y_valid, logit_grid_searcher.predict(X_valid)) )"
   ]
  },
  {
   "cell_type": "markdown",
   "metadata": {
    "ExecuteTime": {
     "end_time": "2019-10-15T08:00:22.329554Z",
     "start_time": "2019-10-15T08:00:22.324844Z"
    }
   },
   "source": [
    "**Линейный SVM**"
   ]
  },
  {
   "cell_type": "code",
   "execution_count": 12,
   "metadata": {
    "ExecuteTime": {
     "end_time": "2019-10-16T12:05:38.416824Z",
     "start_time": "2019-10-16T12:05:35.642261Z"
    }
   },
   "outputs": [
    {
     "name": "stdout",
     "output_type": "stream",
     "text": [
      "Доля верных предсказаний LinearSVC на кросс-валидации: 0.753\n",
      "Доля верных предсказаний LinearSVC на валидации: 0.777\n"
     ]
    }
   ],
   "source": [
    "svc = LinearSVC(C=1.0, random_state=17)\n",
    "\n",
    "print('Доля верных предсказаний LinearSVC на кросс-валидации: %.3f' %\n",
    "      cross_val_score(svc, X_train, y_train, cv=skf, n_jobs=-1).mean() )\n",
    "\n",
    "print('Доля верных предсказаний LinearSVC на валидации: %.3f' %\n",
    "      accuracy_score(y_valid, svc.fit(X_train, y_train).predict(X_valid)) )"
   ]
  },
  {
   "cell_type": "markdown",
   "metadata": {},
   "source": [
    "Для SVM проведем подбор оптимального параметра регуляризации C."
   ]
  },
  {
   "cell_type": "code",
   "execution_count": 13,
   "metadata": {
    "ExecuteTime": {
     "end_time": "2019-10-16T12:06:37.862306Z",
     "start_time": "2019-10-16T12:05:38.418616Z"
    }
   },
   "outputs": [
    {
     "name": "stdout",
     "output_type": "stream",
     "text": [
      "Лучшее значение параметра C для модели LinearSVC: 0.104\n",
      "Доля верных предсказаний лучшей модели LinearSVC на кросс-валидации: 0.765\n",
      "Доля верных предсказаний лучшей модели LinearSVC на валидации: 0.781\n"
     ]
    }
   ],
   "source": [
    "logit_c_values1 = np.linspace(0.01, 0.5, 100)\n",
    "\n",
    "svс_grid_searcher = GridSearchCV(LinearSVC(random_state=17),\n",
    "                                 param_grid={'C': logit_c_values1},\n",
    "                                 n_jobs=-1,\n",
    "                                 cv=skf)\n",
    "\n",
    "svс_grid_searcher.fit(X_train, y_train)\n",
    "\n",
    "print('Лучшее значение параметра C для модели LinearSVC: %.3f' % svс_grid_searcher.best_params_['C'])\n",
    "print('Доля верных предсказаний лучшей модели LinearSVC на кросс-валидации: %.3f' % \n",
    "       svс_grid_searcher.best_score_)\n",
    "print('Доля верных предсказаний лучшей модели LinearSVC на валидации: %.3f' %\n",
    "       accuracy_score(y_valid, svс_grid_searcher.predict(X_valid)) )"
   ]
  },
  {
   "cell_type": "markdown",
   "metadata": {},
   "source": [
    "Вспомогательная функция для отрисовки кривых валидации после запуска GridSearchCV (или RandomizedCV)."
   ]
  },
  {
   "cell_type": "code",
   "execution_count": 14,
   "metadata": {
    "ExecuteTime": {
     "end_time": "2019-10-16T12:06:37.870690Z",
     "start_time": "2019-10-16T12:06:37.863983Z"
    }
   },
   "outputs": [],
   "source": [
    "def plot_validation_curves(param_values, grid_cv_results_):\n",
    "    train_mu, train_std = grid_cv_results_['mean_train_score'], grid_cv_results_['std_train_score']\n",
    "    valid_mu, valid_std = grid_cv_results_['mean_test_score'], grid_cv_results_['std_test_score']\n",
    "    train_line = plt.plot(param_values, train_mu, '-', label='train', color='green')\n",
    "    valid_line = plt.plot(param_values, valid_mu, '-', label='test', color='red')\n",
    "    plt.fill_between(param_values, train_mu - train_std, train_mu + train_std, edgecolor='none',\n",
    "                     facecolor=train_line[0].get_color(), alpha=0.2)\n",
    "    plt.fill_between(param_values, valid_mu - valid_std, valid_mu + valid_std, edgecolor='none',\n",
    "                     facecolor=valid_line[0].get_color(), alpha=0.2)\n",
    "    plt.legend()"
   ]
  },
  {
   "cell_type": "code",
   "execution_count": 15,
   "metadata": {
    "ExecuteTime": {
     "end_time": "2019-10-16T12:06:38.089977Z",
     "start_time": "2019-10-16T12:06:37.872482Z"
    }
   },
   "outputs": [
    {
     "data": {
      "image/png": "[encoded data removed]",
      "text/plain": [
       "<Figure size 432x288 with 1 Axes>"
      ]
     },
     "metadata": {
      "needs_background": "light"
     },
     "output_type": "display_data"
    }
   ],
   "source": [
    "plot_validation_curves( list(svс_grid_searcher.cv_results_['param_C']),\n",
    "                        svс_grid_searcher.cv_results_)\n",
    "plt.title('Зависимости доли правильных ответов на кросс-валидации от С для модели LinearSVC');"
   ]
  },
  {
   "cell_type": "markdown",
   "metadata": {},
   "source": [
    "На признаках, полученных с помощью модели мешка слов на данных для 10 пользователей, лучшее качество показывают линейные модели: `LinearSVC` и `LogisticRegression`. `RandomForestClassifier` показал результат ниже, т.к. деревянные модели плохо работают с разреженными данными."
   ]
  },
  {
   "cell_type": "markdown",
   "metadata": {},
   "source": [
    "## 2.2 Подбор параметров: длинна сессии и ширина окна"
   ]
  },
  {
   "cell_type": "markdown",
   "metadata": {},
   "source": [
    "Подбор будем осуществлять с помощью модели `LinearSVC`, показавшей лучшее качество на кросс-валидации для длинны сессии и ширины окна 10 на данных для 10 пользователей. Реализована функция `model_assessment`, рассчитывающая долю верных ответов на кросс-валидации и на отложенной выборке."
   ]
  },
  {
   "cell_type": "code",
   "execution_count": 16,
   "metadata": {
    "ExecuteTime": {
     "end_time": "2019-10-16T12:06:38.097695Z",
     "start_time": "2019-10-16T12:06:38.091708Z"
    }
   },
   "outputs": [],
   "source": [
    "def model_assessment(estimator, X, y, cv, seed=17, test_size=0.3):    \n",
    "    estimator1 = copy.deepcopy(estimator)\n",
    "    estimator2 = copy.deepcopy(estimator)\n",
    "    X_train, X_valid, y_train, y_valid = train_test_split(X, y, test_size=test_size, \n",
    "                                                          random_state=seed, stratify=y)\n",
    "    \n",
    "    def accuracy_score_task():\n",
    "        return accuracy_score(y_valid, estimator2.fit(X_train, y_train).predict(X_valid))    \n",
    "    \n",
    "    with concurrent.futures.ThreadPoolExecutor(max_workers=1) as executor:\n",
    "        accuracy_score_future = executor.submit(accuracy_score_task)\n",
    "        return cross_val_score(estimator1, X_train, y_train, cv=cv, n_jobs=-1)\\\n",
    "               .mean(),accuracy_score_future.result()"
   ]
  },
  {
   "cell_type": "code",
   "execution_count": 17,
   "metadata": {
    "ExecuteTime": {
     "end_time": "2019-10-16T12:06:48.845856Z",
     "start_time": "2019-10-16T12:06:38.099465Z"
    }
   },
   "outputs": [
    {
     "name": "stdout",
     "output_type": "stream",
     "text": [
      "session_length = 15 ; window_size = 10 ; train: 0.824 ; val: 0.84\n",
      "session_length = 10 ; window_size = 10 ; train: 0.765 ; val: 0.781\n",
      "session_length = 15 ; window_size = 7 ; train: 0.848 ; val: 0.854\n",
      "session_length = 10 ; window_size = 7 ; train: 0.797 ; val: 0.807\n",
      "session_length = 7 ; window_size = 7 ; train: 0.753 ; val: 0.762\n",
      "session_length = 15 ; window_size = 5 ; train: 0.868 ; val: 0.875\n",
      "session_length = 10 ; window_size = 5 ; train: 0.816 ; val: 0.825\n",
      "session_length = 7 ; window_size = 5 ; train: 0.774 ; val: 0.785\n",
      "session_length = 5 ; window_size = 5 ; train: 0.725 ; val: 0.736\n"
     ]
    }
   ],
   "source": [
    "estimator = svс_grid_searcher.best_estimator_\n",
    "\n",
    "for window_size, session_length in itertools.product([10, 7, 5], [15, 10, 7, 5]):\n",
    "    if window_size <= session_length:\n",
    "        path_to_X_pkl = os.path.join(PATH_TO_DATA, 'X_sparse_10users_s{}_w{}.pkl'.format(session_length, window_size))\n",
    "        path_to_y_pkl = os.path.join(PATH_TO_DATA, 'y_10users_s{}_w{}.pkl'.format(session_length, window_size))\n",
    "        \n",
    "        with open(path_to_X_pkl, 'rb') as file_obj:\n",
    "            X_sparse = pickle.load(file_obj)\n",
    "        \n",
    "        with open(path_to_y_pkl, 'rb') as file_obj:\n",
    "            y = pickle.load(file_obj)\n",
    "        \n",
    "        result = model_assessment(estimator, X_sparse, y, skf)\n",
    "        print( 'session_length =', session_length,\n",
    "               '; window_size =', window_size,\n",
    "               '; train:', round(result[0], 3),\n",
    "               '; val:', round(result[1], 3) )"
   ]
  },
  {
   "cell_type": "markdown",
   "metadata": {
    "ExecuteTime": {
     "end_time": "2019-10-15T08:54:32.936215Z",
     "start_time": "2019-10-15T08:54:32.929297Z"
    }
   },
   "source": [
    "**Результат**\n",
    "<br> Лучшее качество модель демонстрирует при разбиении данных на сессии с параметрами `session_length=15` и `window_size=5`:\n",
    "- Доля верных предсказаний на кросс-валидации: 0.868\n",
    "- Доля верных предсказаний на отложенной выборке: 0.875"
   ]
  },
  {
   "cell_type": "markdown",
   "metadata": {},
   "source": [
    "## 2.3. Влияние дополнительных признаков\n",
    "Исследуем влияние дополнительных признаков при разбиении данных на сессии с параметрами `session_length=15` и `window_size=5`."
   ]
  },
  {
   "cell_type": "code",
   "execution_count": 18,
   "metadata": {
    "ExecuteTime": {
     "end_time": "2019-10-16T12:06:48.861681Z",
     "start_time": "2019-10-16T12:06:48.847720Z"
    }
   },
   "outputs": [],
   "source": [
    "def read_lines(file_obj, site_freq, buffer, n):\n",
    "    for i in range(n):\n",
    "        line = file_obj.readline()\n",
    "        if not line:\n",
    "            buffer.extend([(None, 0)] * (n - i))    \n",
    "            return i\n",
    "        \n",
    "        comma_index = line.index(',')\n",
    "        timestamp = line[:comma_index]\n",
    "        site_url = line[comma_index + 1:-1]\n",
    "        buffer.append((datetime.datetime.strptime(timestamp, '%Y-%m-%d %H:%M:%S'), site_freq[site_url][0]))\n",
    "    \n",
    "    return n\n",
    "\n",
    "\n",
    "def feature_engineering(path_to_csv_files, foldname, site_freq_path, features, \n",
    "                        session_length=10, window_size=10):\n",
    "    \n",
    "    def extract_time_of_day(timestamp):\n",
    "        return timestamp.hour // 6\n",
    "\n",
    "\n",
    "    def build_row_feature_engineering(buffer, n, user_id, top_sites):\n",
    "        session_sites = [data[1] for data in buffer]\n",
    "        session_timespan = (buffer[n - 1][0] - buffer[0][0]).total_seconds()\n",
    "        unique_sites = set(session_sites)\n",
    "        unique_sites.discard(0)\n",
    "        start_hour = buffer[0][0].hour\n",
    "        day_of_week = buffer[0][0].weekday()\n",
    "        time_of_day = extract_time_of_day(buffer[0][0])\n",
    "\n",
    "        assert n > 1\n",
    "        average_visit_duration = session_timespan / (n - 1)\n",
    "\n",
    "        session_sites_frequencies = Counter(session_sites)\n",
    "        session_sites_frequencies.pop(0, None)\n",
    "        max_frequency = session_sites_frequencies.most_common(1)[0][1] / n\n",
    "\n",
    "        top_sites_visits = 0\n",
    "        for site in session_sites:\n",
    "            if site in top_sites:\n",
    "                top_sites_visits += 1\n",
    "\n",
    "        top_sites_visits /= n\n",
    "\n",
    "        session_sites.append(session_timespan)\n",
    "        session_sites.append(len(unique_sites))\n",
    "        session_sites.append(start_hour)\n",
    "        session_sites.append(day_of_week)\n",
    "        session_sites.append(time_of_day)\n",
    "        session_sites.append(average_visit_duration)\n",
    "        session_sites.append(max_frequency)\n",
    "        session_sites.append(top_sites_visits)\n",
    "        session_sites.append(user_id)\n",
    "\n",
    "        return session_sites\n",
    "    \n",
    "    with open(site_freq_path, 'rb') as file_obj:\n",
    "        site_freq = pickle.load(file_obj)\n",
    "    \n",
    "    top_sites = set(list(zip(*sorted(site_freq.values(), key=lambda x: x[1])[-30:]))[0])\n",
    "    buffer = deque(maxlen=session_length)\n",
    "    data = []\n",
    "    user_id = 1\n",
    "    for file_path in sorted(glob(os.path.join(path_to_csv_files, foldname, '*.csv'))):\n",
    "        with open(file_path, 'r') as file_obj:\n",
    "            file_obj.readline()\n",
    "            n = read_lines(file_obj, site_freq, buffer, session_length)\n",
    "            if n > 0:\n",
    "                data.append(build_row_feature_engineering(buffer, n, user_id, top_sites))\n",
    "                \n",
    "                while True:\n",
    "                    n -= window_size - read_lines(file_obj, site_freq, buffer, window_size)\n",
    "                    if n <= 0:\n",
    "                        break\n",
    "                    \n",
    "                    if n == 1:\n",
    "                        continue\n",
    "                    \n",
    "                    data.append(build_row_feature_engineering(buffer, n, user_id, top_sites))\n",
    "        \n",
    "        user_id += 1\n",
    "    \n",
    "    return pd.DataFrame(data, columns=list(features))\n",
    "\n",
    "\n",
    "sites = ['site' + str(i) for i in range(1, 16)]\n",
    "additional_features = ['session_timespan', '#unique_sites', 'start_hour', 'day_of_week'] + \\\n",
    "                      ['time_of_day', 'average_visit_duration', 'max_frequency', 'top_sites_visits']\n",
    "computed_features =  sites + additional_features + ['target']"
   ]
  },
  {
   "cell_type": "code",
   "execution_count": 19,
   "metadata": {
    "ExecuteTime": {
     "end_time": "2019-10-16T12:06:50.525500Z",
     "start_time": "2019-10-16T12:06:48.863029Z"
    }
   },
   "outputs": [],
   "source": [
    "new_features = feature_engineering(path_to_csv_files=PATH_TO_DATA,\n",
    "                                    foldname = '10users', \n",
    "                                    site_freq_path=os.path.join(PATH_TO_DATA, 'site_freq_10users.pkl'),\n",
    "                                    features=computed_features,\n",
    "                                    session_length=15, window_size=5)"
   ]
  },
  {
   "cell_type": "markdown",
   "metadata": {
    "ExecuteTime": {
     "end_time": "2019-10-15T09:49:51.260618Z",
     "start_time": "2019-10-15T09:49:51.256464Z"
    }
   },
   "source": [
    "Будем добавлять по-одному дополнительному признаку и измерять долю верных предсказаний на кросс-валидации и на на отложенной выборке.\n",
    "**Влияние одного дополнительного признака**"
   ]
  },
  {
   "cell_type": "code",
   "execution_count": 20,
   "metadata": {
    "ExecuteTime": {
     "end_time": "2019-10-16T12:06:50.532747Z",
     "start_time": "2019-10-16T12:06:50.526510Z"
    }
   },
   "outputs": [],
   "source": [
    "def to_sparse(matrix):\n",
    "    row_ind = []\n",
    "    col_ind = []\n",
    "    data = []\n",
    "    for i, row in enumerate(matrix):\n",
    "        unique_elements, counts_elements = np.unique(row, return_counts=True)\n",
    "        for index, element in np.ndenumerate(unique_elements):\n",
    "            if element > 0:\n",
    "                row_ind.append(i)\n",
    "                col_ind.append(element - 1)\n",
    "                data.append(counts_elements[index])\n",
    "    \n",
    "    return csr_matrix((data, (row_ind, col_ind)))"
   ]
  },
  {
   "cell_type": "code",
   "execution_count": 21,
   "metadata": {
    "ExecuteTime": {
     "end_time": "2019-10-16T12:07:57.195511Z",
     "start_time": "2019-10-16T12:06:50.534101Z"
    }
   },
   "outputs": [
    {
     "name": "stdout",
     "output_type": "stream",
     "text": [
      "Feat : session_timespan; train: 0.786, val: 0.767\n",
      "Feat : #unique_sites; train: 0.869, val: 0.876\n",
      "Feat : start_hour; train: 0.875, val: 0.882\n",
      "Feat : day_of_week; train: 0.873, val: 0.877\n",
      "Feat : time_of_day; train: 0.878, val: 0.884\n",
      "Feat : average_visit_duration; train: 0.839, val: 0.844\n",
      "Feat : max_frequency; train: 0.870, val: 0.876\n",
      "Feat : top_sites_visits; train: 0.869, val: 0.876\n"
     ]
    }
   ],
   "source": [
    "X_sparse = to_sparse(new_features[sites].values)\n",
    "y = new_features.target.values\n",
    "\n",
    "for feature in additional_features:    \n",
    "    result = model_assessment( \n",
    "        estimator,\n",
    "        hstack((X_sparse, new_features[[feature]].values), format='csr'),\n",
    "        y, skf )\n",
    "    \n",
    "    print( 'Feat : %s; train: %.3f, val: %.3f' % (feature, result[0], result[1]) )"
   ]
  },
  {
   "cell_type": "markdown",
   "metadata": {
    "ExecuteTime": {
     "end_time": "2019-10-15T13:26:46.559317Z",
     "start_time": "2019-10-15T13:26:46.553990Z"
    }
   },
   "source": [
    "Признаки #unique_sites, start_hour, day_of_week, time_of_day, max_frequency, top_sites_visits несколько улучшили качество модели.\n",
    "<br> Лучшее качество модель демонстрирует при добавлении признака time_of_day:\n",
    "- Доля верных предсказаний на кросс-валидации: 0.878\n",
    "- Доля верных предсказаний на отложенной выборке: 0.884\n",
    "\n",
    "**Влияние пар улучшающих признаков**\n",
    "<br>Так как time_of_day является производным от признака start_hour, то в дальнейшем будем использлвать лучший из них - time_of_day."
   ]
  },
  {
   "cell_type": "code",
   "execution_count": 22,
   "metadata": {
    "ExecuteTime": {
     "end_time": "2019-10-16T12:08:26.420595Z",
     "start_time": "2019-10-16T12:07:57.197021Z"
    }
   },
   "outputs": [
    {
     "name": "stdout",
     "output_type": "stream",
     "text": [
      "Feat : ('time_of_day', 'max_frequency'); train: 0.877, val: 0.884\n",
      "Feat : ('time_of_day', 'day_of_week'); train: 0.881, val: 0.890\n",
      "Feat : ('time_of_day', 'top_sites_visits'); train: 0.878, val: 0.884\n",
      "Feat : ('time_of_day', '#unique_sites'); train: 0.878, val: 0.885\n",
      "Feat : ('max_frequency', 'day_of_week'); train: 0.874, val: 0.878\n",
      "Feat : ('max_frequency', 'top_sites_visits'); train: 0.870, val: 0.876\n",
      "Feat : ('max_frequency', '#unique_sites'); train: 0.871, val: 0.876\n",
      "Feat : ('day_of_week', 'top_sites_visits'); train: 0.873, val: 0.877\n",
      "Feat : ('day_of_week', '#unique_sites'); train: 0.875, val: 0.877\n",
      "Feat : ('top_sites_visits', '#unique_sites'); train: 0.870, val: 0.876\n"
     ]
    }
   ],
   "source": [
    "improving_features = list(set(additional_features).difference(['session_timespan', 'average_visit_duration', \n",
    "                                                               'start_hour']))\n",
    "\n",
    "for pair in itertools.combinations(improving_features, 2):   \n",
    "    result = model_assessment(\n",
    "        estimator,\n",
    "        hstack((X_sparse, new_features[list(pair)].values), format='csr'),\n",
    "        y, skf )\n",
    "    \n",
    "    print( 'Feat : %s; train: %.3f, val: %.3f' % (pair, result[0], result[1]) )"
   ]
  },
  {
   "cell_type": "markdown",
   "metadata": {},
   "source": [
    "Пары признаков ('#unique_sites', 'time_of_day'), ('max_frequency', 'time_of_day'), ('day_of_week', 'time_of_day'), ('time_of_day', 'top_sites_visits') несколько улучшили качество модели. Стоит отметить, что во все пары вошёл признак 'time_of_day', который дал наибольший прирост качества среди одиночных признаков.\n",
    "<br> Лучшее качество модель демонстрирует при добавлении пары признаков ('day_of_week', 'time_of_day'):\n",
    "- Доля верных предсказаний на кросс-валидации: 0.881\n",
    "- Доля верных предсказаний на отложенной выборке: 0.890\n",
    "\n",
    "**Влияние троек улучшающих признаков**"
   ]
  },
  {
   "cell_type": "code",
   "execution_count": 23,
   "metadata": {
    "ExecuteTime": {
     "end_time": "2019-10-16T12:08:58.550540Z",
     "start_time": "2019-10-16T12:08:26.423457Z"
    }
   },
   "outputs": [
    {
     "name": "stdout",
     "output_type": "stream",
     "text": [
      "Feat : ('time_of_day', 'max_frequency', 'day_of_week'); train: 0.882, val: 0.889\n",
      "Feat : ('time_of_day', 'max_frequency', 'top_sites_visits'); train: 0.877, val: 0.884\n",
      "Feat : ('time_of_day', 'max_frequency', '#unique_sites'); train: 0.878, val: 0.885\n",
      "Feat : ('time_of_day', 'day_of_week', 'top_sites_visits'); train: 0.881, val: 0.890\n",
      "Feat : ('time_of_day', 'day_of_week', '#unique_sites'); train: 0.882, val: 0.888\n",
      "Feat : ('time_of_day', 'top_sites_visits', '#unique_sites'); train: 0.878, val: 0.885\n",
      "Feat : ('max_frequency', 'day_of_week', 'top_sites_visits'); train: 0.874, val: 0.878\n",
      "Feat : ('max_frequency', 'day_of_week', '#unique_sites'); train: 0.874, val: 0.878\n",
      "Feat : ('max_frequency', 'top_sites_visits', '#unique_sites'); train: 0.871, val: 0.876\n",
      "Feat : ('day_of_week', 'top_sites_visits', '#unique_sites'); train: 0.875, val: 0.877\n"
     ]
    }
   ],
   "source": [
    "for triple in itertools.combinations(improving_features, 3):   \n",
    "    result = model_assessment(\n",
    "        estimator,\n",
    "        hstack((X_sparse, new_features[list(triple)].values), format='csr'),\n",
    "        y, skf)\n",
    "    \n",
    "    print( 'Feat : %s; train: %.3f, val: %.3f' % (triple, result[0], result[1]) )"
   ]
  },
  {
   "cell_type": "markdown",
   "metadata": {},
   "source": [
    "Модели, обученные на тройках признаков, показали качество хуже, чем модель, обученная на паре ('day_of_week', 'time_of_day').\n",
    "<br> Лучшее качество удалось получить на тройке признаков ('day_of_week', 'time_of_day', 'top_sites_visits'):\n",
    "- Доля верных предсказаний на кросс-валидации: 0.881\n",
    "- Доля верных предсказаний на отложенной выборке: 0.890\n",
    " \n",
    " <br>_Добавление третьего признака не улучшили качество. Дальше добавлять признаки не будем._\n",
    "\n",
    "**Обучение и проверка качества модели с выбранными параметрами и дополнительными признаками на данных для 150 пользователей**"
   ]
  },
  {
   "cell_type": "code",
   "execution_count": 24,
   "metadata": {
    "ExecuteTime": {
     "end_time": "2019-10-16T12:23:00.545254Z",
     "start_time": "2019-10-16T12:08:58.552343Z"
    }
   },
   "outputs": [
    {
     "name": "stdout",
     "output_type": "stream",
     "text": [
      "Обучение без дополнительных признаков:\n",
      " train: 0.613, val: 0.635\n",
      "\n",
      "Обучение с признаками: [day_of_week, time_of_day]\n",
      " train: 0.633, val: 0.655\n"
     ]
    }
   ],
   "source": [
    "new_features = feature_engineering(path_to_csv_files=PATH_TO_DATA,\n",
    "                                   foldname = '150users',\n",
    "                                   site_freq_path=os.path.join(PATH_TO_DATA, 'site_freq_150users.pkl'),\n",
    "                                   features=computed_features, session_length=15, window_size=5)\n",
    "\n",
    "X_sparse = to_sparse(new_features[sites].values)\n",
    "y = new_features.target.values\n",
    "\n",
    "result = model_assessment(estimator, X_sparse, y, skf)\n",
    "\n",
    "print('Обучение без дополнительных признаков:\\n train: %.3f, val: %.3f\\n' % (result[0], result[1]) )\n",
    "\n",
    "result = model_assessment(\n",
    "    estimator,\n",
    "    hstack((X_sparse, new_features[['day_of_week', 'time_of_day']].values), format='csr'),\n",
    "    y, skf)\n",
    "\n",
    "print('Обучение с признаками: [day_of_week, time_of_day]\\n train: %.3f, val: %.3f' % (result[0], result[1]) )"
   ]
  },
  {
   "cell_type": "markdown",
   "metadata": {
    "ExecuteTime": {
     "end_time": "2019-10-15T15:17:03.857518Z",
     "start_time": "2019-10-15T15:17:02.071168Z"
    }
   },
   "source": [
    "На данных для 150 пользователей дополнительные признаки также улучшают качество модели."
   ]
  },
  {
   "cell_type": "markdown",
   "metadata": {
    "ExecuteTime": {
     "end_time": "2019-10-15T15:15:03.523725Z",
     "start_time": "2019-10-15T15:15:03.518254Z"
    }
   },
   "source": [
    "# 2 Применение Vowpal Wabbit\n",
    "Будем применять Vowpal Wabbit в решении задачи [соревнования](https://inclass.kaggle.com/c/identify-me-if-you-can4/data), в котором требуется построить модель для классификации на 400 классов. Тренировочная и контрольная выборки представлены в файлах `train_sessions_400users.csv` и `test_sessions_400users.csv`.\n",
    "## 2.1. Предобработка данных"
   ]
  },
  {
   "cell_type": "code",
   "execution_count": 25,
   "metadata": {
    "ExecuteTime": {
     "end_time": "2019-10-16T12:23:01.756512Z",
     "start_time": "2019-10-16T12:23:00.546851Z"
    }
   },
   "outputs": [
    {
     "data": {
      "text/html": [
       "<div>\n",
       "<style scoped>\n",
       "    .dataframe tbody tr th:only-of-type {\n",
       "        vertical-align: middle;\n",
       "    }\n",
       "\n",
       "    .dataframe tbody tr th {\n",
       "        vertical-align: top;\n",
       "    }\n",
       "\n",
       "    .dataframe thead th {\n",
       "        text-align: right;\n",
       "    }\n",
       "</style>\n",
       "<table border=\"1\" class=\"dataframe\">\n",
       "  <thead>\n",
       "    <tr style=\"text-align: right;\">\n",
       "      <th></th>\n",
       "      <th>site1</th>\n",
       "      <th>time1</th>\n",
       "      <th>site2</th>\n",
       "      <th>time2</th>\n",
       "      <th>site3</th>\n",
       "      <th>time3</th>\n",
       "      <th>site4</th>\n",
       "      <th>time4</th>\n",
       "      <th>site5</th>\n",
       "      <th>time5</th>\n",
       "      <th>...</th>\n",
       "      <th>time6</th>\n",
       "      <th>site7</th>\n",
       "      <th>time7</th>\n",
       "      <th>site8</th>\n",
       "      <th>time8</th>\n",
       "      <th>site9</th>\n",
       "      <th>time9</th>\n",
       "      <th>site10</th>\n",
       "      <th>time10</th>\n",
       "      <th>user_id</th>\n",
       "    </tr>\n",
       "    <tr>\n",
       "      <th>session_id</th>\n",
       "      <th></th>\n",
       "      <th></th>\n",
       "      <th></th>\n",
       "      <th></th>\n",
       "      <th></th>\n",
       "      <th></th>\n",
       "      <th></th>\n",
       "      <th></th>\n",
       "      <th></th>\n",
       "      <th></th>\n",
       "      <th></th>\n",
       "      <th></th>\n",
       "      <th></th>\n",
       "      <th></th>\n",
       "      <th></th>\n",
       "      <th></th>\n",
       "      <th></th>\n",
       "      <th></th>\n",
       "      <th></th>\n",
       "      <th></th>\n",
       "      <th></th>\n",
       "    </tr>\n",
       "  </thead>\n",
       "  <tbody>\n",
       "    <tr>\n",
       "      <th>1</th>\n",
       "      <td>23713</td>\n",
       "      <td>2014-03-24 15:22:40</td>\n",
       "      <td>23720.0</td>\n",
       "      <td>2014-03-24 15:22:48</td>\n",
       "      <td>23713.0</td>\n",
       "      <td>2014-03-24 15:22:48</td>\n",
       "      <td>23713.0</td>\n",
       "      <td>2014-03-24 15:22:54</td>\n",
       "      <td>23720.0</td>\n",
       "      <td>2014-03-24 15:22:54</td>\n",
       "      <td>...</td>\n",
       "      <td>2014-03-24 15:22:55</td>\n",
       "      <td>23713.0</td>\n",
       "      <td>2014-03-24 15:23:01</td>\n",
       "      <td>23713.0</td>\n",
       "      <td>2014-03-24 15:23:03</td>\n",
       "      <td>23713.0</td>\n",
       "      <td>2014-03-24 15:23:04</td>\n",
       "      <td>23713.0</td>\n",
       "      <td>2014-03-24 15:23:05</td>\n",
       "      <td>653</td>\n",
       "    </tr>\n",
       "    <tr>\n",
       "      <th>2</th>\n",
       "      <td>8726</td>\n",
       "      <td>2014-04-17 14:25:58</td>\n",
       "      <td>8725.0</td>\n",
       "      <td>2014-04-17 14:25:59</td>\n",
       "      <td>665.0</td>\n",
       "      <td>2014-04-17 14:25:59</td>\n",
       "      <td>8727.0</td>\n",
       "      <td>2014-04-17 14:25:59</td>\n",
       "      <td>45.0</td>\n",
       "      <td>2014-04-17 14:25:59</td>\n",
       "      <td>...</td>\n",
       "      <td>2014-04-17 14:26:01</td>\n",
       "      <td>45.0</td>\n",
       "      <td>2014-04-17 14:26:01</td>\n",
       "      <td>5320.0</td>\n",
       "      <td>2014-04-17 14:26:18</td>\n",
       "      <td>5320.0</td>\n",
       "      <td>2014-04-17 14:26:47</td>\n",
       "      <td>5320.0</td>\n",
       "      <td>2014-04-17 14:26:48</td>\n",
       "      <td>198</td>\n",
       "    </tr>\n",
       "    <tr>\n",
       "      <th>3</th>\n",
       "      <td>303</td>\n",
       "      <td>2014-03-21 10:12:24</td>\n",
       "      <td>19.0</td>\n",
       "      <td>2014-03-21 10:12:36</td>\n",
       "      <td>303.0</td>\n",
       "      <td>2014-03-21 10:12:54</td>\n",
       "      <td>303.0</td>\n",
       "      <td>2014-03-21 10:13:01</td>\n",
       "      <td>303.0</td>\n",
       "      <td>2014-03-21 10:13:24</td>\n",
       "      <td>...</td>\n",
       "      <td>2014-03-21 10:13:36</td>\n",
       "      <td>303.0</td>\n",
       "      <td>2014-03-21 10:13:54</td>\n",
       "      <td>309.0</td>\n",
       "      <td>2014-03-21 10:14:01</td>\n",
       "      <td>303.0</td>\n",
       "      <td>2014-03-21 10:14:06</td>\n",
       "      <td>303.0</td>\n",
       "      <td>2014-03-21 10:14:24</td>\n",
       "      <td>34</td>\n",
       "    </tr>\n",
       "    <tr>\n",
       "      <th>4</th>\n",
       "      <td>1359</td>\n",
       "      <td>2013-12-13 09:52:28</td>\n",
       "      <td>925.0</td>\n",
       "      <td>2013-12-13 09:54:34</td>\n",
       "      <td>1240.0</td>\n",
       "      <td>2013-12-13 09:54:34</td>\n",
       "      <td>1360.0</td>\n",
       "      <td>2013-12-13 09:54:34</td>\n",
       "      <td>1344.0</td>\n",
       "      <td>2013-12-13 09:54:34</td>\n",
       "      <td>...</td>\n",
       "      <td>2013-12-13 09:54:34</td>\n",
       "      <td>1346.0</td>\n",
       "      <td>2013-12-13 09:54:34</td>\n",
       "      <td>1345.0</td>\n",
       "      <td>2013-12-13 09:54:34</td>\n",
       "      <td>1344.0</td>\n",
       "      <td>2013-12-13 09:58:19</td>\n",
       "      <td>1345.0</td>\n",
       "      <td>2013-12-13 09:58:19</td>\n",
       "      <td>601</td>\n",
       "    </tr>\n",
       "    <tr>\n",
       "      <th>5</th>\n",
       "      <td>11</td>\n",
       "      <td>2013-11-26 12:35:29</td>\n",
       "      <td>85.0</td>\n",
       "      <td>2013-11-26 12:35:31</td>\n",
       "      <td>52.0</td>\n",
       "      <td>2013-11-26 12:35:31</td>\n",
       "      <td>85.0</td>\n",
       "      <td>2013-11-26 12:35:32</td>\n",
       "      <td>11.0</td>\n",
       "      <td>2013-11-26 12:35:32</td>\n",
       "      <td>...</td>\n",
       "      <td>2013-11-26 12:35:32</td>\n",
       "      <td>11.0</td>\n",
       "      <td>2013-11-26 12:37:03</td>\n",
       "      <td>85.0</td>\n",
       "      <td>2013-11-26 12:37:03</td>\n",
       "      <td>10.0</td>\n",
       "      <td>2013-11-26 12:37:03</td>\n",
       "      <td>85.0</td>\n",
       "      <td>2013-11-26 12:37:04</td>\n",
       "      <td>273</td>\n",
       "    </tr>\n",
       "  </tbody>\n",
       "</table>\n",
       "<p>5 rows × 21 columns</p>\n",
       "</div>"
      ],
      "text/plain": [
       "            site1                time1    site2                time2    site3  \\\n",
       "session_id                                                                      \n",
       "1           23713  2014-03-24 15:22:40  23720.0  2014-03-24 15:22:48  23713.0   \n",
       "2            8726  2014-04-17 14:25:58   8725.0  2014-04-17 14:25:59    665.0   \n",
       "3             303  2014-03-21 10:12:24     19.0  2014-03-21 10:12:36    303.0   \n",
       "4            1359  2013-12-13 09:52:28    925.0  2013-12-13 09:54:34   1240.0   \n",
       "5              11  2013-11-26 12:35:29     85.0  2013-11-26 12:35:31     52.0   \n",
       "\n",
       "                          time3    site4                time4    site5  \\\n",
       "session_id                                                               \n",
       "1           2014-03-24 15:22:48  23713.0  2014-03-24 15:22:54  23720.0   \n",
       "2           2014-04-17 14:25:59   8727.0  2014-04-17 14:25:59     45.0   \n",
       "3           2014-03-21 10:12:54    303.0  2014-03-21 10:13:01    303.0   \n",
       "4           2013-12-13 09:54:34   1360.0  2013-12-13 09:54:34   1344.0   \n",
       "5           2013-11-26 12:35:31     85.0  2013-11-26 12:35:32     11.0   \n",
       "\n",
       "                          time5  ...                time6    site7  \\\n",
       "session_id                       ...                                 \n",
       "1           2014-03-24 15:22:54  ...  2014-03-24 15:22:55  23713.0   \n",
       "2           2014-04-17 14:25:59  ...  2014-04-17 14:26:01     45.0   \n",
       "3           2014-03-21 10:13:24  ...  2014-03-21 10:13:36    303.0   \n",
       "4           2013-12-13 09:54:34  ...  2013-12-13 09:54:34   1346.0   \n",
       "5           2013-11-26 12:35:32  ...  2013-11-26 12:35:32     11.0   \n",
       "\n",
       "                          time7    site8                time8    site9  \\\n",
       "session_id                                                               \n",
       "1           2014-03-24 15:23:01  23713.0  2014-03-24 15:23:03  23713.0   \n",
       "2           2014-04-17 14:26:01   5320.0  2014-04-17 14:26:18   5320.0   \n",
       "3           2014-03-21 10:13:54    309.0  2014-03-21 10:14:01    303.0   \n",
       "4           2013-12-13 09:54:34   1345.0  2013-12-13 09:54:34   1344.0   \n",
       "5           2013-11-26 12:37:03     85.0  2013-11-26 12:37:03     10.0   \n",
       "\n",
       "                          time9   site10               time10 user_id  \n",
       "session_id                                                             \n",
       "1           2014-03-24 15:23:04  23713.0  2014-03-24 15:23:05     653  \n",
       "2           2014-04-17 14:26:47   5320.0  2014-04-17 14:26:48     198  \n",
       "3           2014-03-21 10:14:06    303.0  2014-03-21 10:14:24      34  \n",
       "4           2013-12-13 09:58:19   1345.0  2013-12-13 09:58:19     601  \n",
       "5           2013-11-26 12:37:03     85.0  2013-11-26 12:37:04     273  \n",
       "\n",
       "[5 rows x 21 columns]"
      ]
     },
     "execution_count": 25,
     "metadata": {},
     "output_type": "execute_result"
    }
   ],
   "source": [
    "fld = 'identify-me-if-you-can4'\n",
    "train_df = pd.read_csv(os.path.join(PATH_TO_DATA, fld, 'train_sessions_400users.csv'), \n",
    "                           index_col='session_id')\n",
    "\n",
    "test_df = pd.read_csv(os.path.join(PATH_TO_DATA, fld, 'test_sessions_400users.csv'), \n",
    "                           index_col='session_id')\n",
    "\n",
    "train_df.head()"
   ]
  },
  {
   "cell_type": "markdown",
   "metadata": {},
   "source": [
    "Формат данных аналогичен тому, с которым мы работали ранее, но Vowpal Wabbit требует, чтобы классы были пронумерованы последовательно от 1 до K. Преобразование из `user_id` в метку класса можно осуществить с помощью алгоритма `LabelEncoder` библиотеки Scikit-learn."
   ]
  },
  {
   "cell_type": "code",
   "execution_count": 26,
   "metadata": {
    "ExecuteTime": {
     "end_time": "2019-10-16T12:23:01.772225Z",
     "start_time": "2019-10-16T12:23:01.758010Z"
    }
   },
   "outputs": [],
   "source": [
    "y = train_df['user_id'].values\n",
    "class_encoder = LabelEncoder()\n",
    "y_for_vw = class_encoder.fit_transform(y) + 1"
   ]
  },
  {
   "cell_type": "markdown",
   "metadata": {},
   "source": [
    "Приведём данные к моделе мешка слов:"
   ]
  },
  {
   "cell_type": "code",
   "execution_count": 27,
   "metadata": {
    "ExecuteTime": {
     "end_time": "2019-10-16T12:23:06.207982Z",
     "start_time": "2019-10-16T12:23:01.773665Z"
    }
   },
   "outputs": [],
   "source": [
    "sites = ['site' + str(i) for i in range(1, 11)]\n",
    "train_df = train_df[sites].fillna(0).astype('int')\n",
    "test_df = test_df[sites].fillna(0).astype('int')\n",
    "\n",
    "X_sparse = to_sparse(pd.concat([train_df, test_df])[sites].values)"
   ]
  },
  {
   "cell_type": "markdown",
   "metadata": {},
   "source": [
    "Выделим обучающую и отложенную подвыборки исходной обучающей выборки, не перемешивая данные."
   ]
  },
  {
   "cell_type": "code",
   "execution_count": 28,
   "metadata": {
    "ExecuteTime": {
     "end_time": "2019-10-16T12:23:06.243176Z",
     "start_time": "2019-10-16T12:23:06.209012Z"
    }
   },
   "outputs": [],
   "source": [
    "train_share = int(.7 * train_df.shape[0])\n",
    "train_df_part = train_df[sites].iloc[:train_share, :]\n",
    "valid_df = train_df[sites].iloc[train_share:, :]\n",
    "X_train_part_sparse = X_sparse[:train_df.shape[0]][:train_share, :]\n",
    "X_valid_sparse = X_sparse[:train_df.shape[0]][train_share:, :]\n",
    "\n",
    "y_train_part = y[:train_share]\n",
    "y_valid = y[train_share:]\n",
    "y_train_part_for_vw = y_for_vw[:train_share]\n",
    "y_valid_for_vw = y_for_vw[train_share:]"
   ]
  },
  {
   "cell_type": "markdown",
   "metadata": {},
   "source": [
    "Реализована функция `arrays_to_vw`, сохраняющая данные в текстовый формат Vowpal Wabbit:"
   ]
  },
  {
   "cell_type": "code",
   "execution_count": 29,
   "metadata": {
    "ExecuteTime": {
     "end_time": "2019-10-16T12:23:06.248753Z",
     "start_time": "2019-10-16T12:23:06.244324Z"
    }
   },
   "outputs": [],
   "source": [
    "def arrays_to_vw(X, y=None, train=True, out_file='tmp.vw'):\n",
    "    if train:\n",
    "        assert X.shape[0] == y.shape[0]\n",
    "    \n",
    "    with open(out_file, 'w') as file_obj:\n",
    "        for i, row in X.iterrows():\n",
    "            print('{} | {}'.format(y[X.index.get_loc(i)] if train else 1, ' '.\\\n",
    "                                   join(str(x) for x in row)), file=file_obj)"
   ]
  },
  {
   "cell_type": "markdown",
   "metadata": {},
   "source": [
    "Сохраним с помощью `arrays_to_vw` данные, необходимые для обучения и проверки качества модели Vowpal Wabbit:"
   ]
  },
  {
   "cell_type": "code",
   "execution_count": 30,
   "metadata": {
    "ExecuteTime": {
     "end_time": "2019-10-16T12:23:29.573292Z",
     "start_time": "2019-10-16T12:23:06.250432Z"
    }
   },
   "outputs": [],
   "source": [
    "arrays_to_vw(train_df_part, y_train_part_for_vw, out_file=os.path.join(PATH_TO_DATA,'train_part.vw'))\n",
    "arrays_to_vw(valid_df, y_valid_for_vw, out_file=os.path.join(PATH_TO_DATA,'valid.vw'))\n",
    "arrays_to_vw(train_df[sites], y_for_vw, out_file=os.path.join(PATH_TO_DATA,'train.vw'))\n",
    "arrays_to_vw(test_df, train=False, out_file=os.path.join(PATH_TO_DATA,'test.vw'))"
   ]
  },
  {
   "cell_type": "markdown",
   "metadata": {},
   "source": [
    "Пример данных в формате Vowpal Wabbit:"
   ]
  },
  {
   "cell_type": "code",
   "execution_count": 31,
   "metadata": {
    "ExecuteTime": {
     "end_time": "2019-10-16T12:23:29.699194Z",
     "start_time": "2019-10-16T12:23:29.574612Z"
    }
   },
   "outputs": [
    {
     "name": "stdout",
     "output_type": "stream",
     "text": [
      "262 | 23713 23720 23713 23713 23720 23713 23713 23713 23713 23713\r\n",
      "82 | 8726 8725 665 8727 45 8725 45 5320 5320 5320\r\n",
      "16 | 303 19 303 303 303 303 303 309 303 303\r\n"
     ]
    }
   ],
   "source": [
    "!head -3 $PATH_TO_DATA/train_part.vw"
   ]
  },
  {
   "cell_type": "markdown",
   "metadata": {},
   "source": [
    "## 2.2 Обучение моделей"
   ]
  },
  {
   "cell_type": "markdown",
   "metadata": {},
   "source": [
    "Обучим модель Vowpal Wabbit и сохраним её на диск в видке бинарного файла:"
   ]
  },
  {
   "cell_type": "code",
   "execution_count": 32,
   "metadata": {
    "ExecuteTime": {
     "end_time": "2019-10-16T12:23:29.706934Z",
     "start_time": "2019-10-16T12:23:29.701032Z"
    }
   },
   "outputs": [],
   "source": [
    "train_part_vw = os.path.join(PATH_TO_DATA, 'train_part.vw')\n",
    "valid_vw = os.path.join(PATH_TO_DATA, 'valid.vw')\n",
    "train_vw = os.path.join(PATH_TO_DATA, 'train.vw')\n",
    "test_vw = os.path.join(PATH_TO_DATA, 'test.vw')\n",
    "model = os.path.join(PATH_TO_DATA, 'vw_model.vw')\n",
    "pred = os.path.join(PATH_TO_DATA, 'vw_pred.csv')"
   ]
  },
  {
   "cell_type": "code",
   "execution_count": 33,
   "metadata": {
    "ExecuteTime": {
     "end_time": "2019-10-16T12:23:40.498402Z",
     "start_time": "2019-10-16T12:23:29.710103Z"
    }
   },
   "outputs": [
    {
     "name": "stdout",
     "output_type": "stream",
     "text": [
      "final_regressor = data/vw_model.vw\n",
      "Num weight bits = 26\n",
      "learning rate = 0.5\n",
      "initial_t = 0\n",
      "power_t = 0.5\n",
      "decay_learning_rate = 1\n",
      "creating cache_file = data/train_part.vw.cache\n",
      "Reading datafile = data/train_part.vw\n",
      "num sources = 1\n",
      "average  since         example        example  current  current  current\n",
      "loss     last          counter         weight    label  predict features\n",
      "1.000000 1.000000            1            1.0      262        1       11\n",
      "1.000000 1.000000            2            2.0       82      262       11\n",
      "1.000000 1.000000            4            4.0      241      262       11\n",
      "1.000000 1.000000            8            8.0      352      262       11\n",
      "1.000000 1.000000           16           16.0      135       16       11\n",
      "1.000000 1.000000           32           32.0       71      112       11\n",
      "0.968750 0.937500           64           64.0      358      231       11\n",
      "0.976562 0.984375          128          128.0      348      346       11\n",
      "0.941406 0.906250          256          256.0      202      202       11\n",
      "0.947266 0.953125          512          512.0       30        1       11\n",
      "0.925781 0.904297         1024         1024.0       36      290       11\n",
      "0.908203 0.890625         2048         2048.0       21      128       11\n",
      "0.880127 0.852051         4096         4096.0       80      229       11\n",
      "0.856323 0.832520         8192         8192.0      307      356       11\n",
      "0.828003 0.799683        16384        16384.0       59      193       11\n",
      "0.795441 0.762878        32768        32768.0      262       30       11\n",
      "0.760468 0.725494        65536        65536.0      171      238       11\n",
      "0.724008 0.724008       131072       131072.0        6        6       11 h\n",
      "0.697339 0.670672       262144       262144.0       12       12       11 h\n",
      "\n",
      "finished run\n",
      "number of examples per pass = 115160\n",
      "passes used = 3\n",
      "weighted example sum = 345480.000000\n",
      "weighted label sum = 0.000000\n",
      "average loss = 0.661352 h\n",
      "total feature number = 3800280\n"
     ]
    }
   ],
   "source": [
    "!vw --cache --kill_cache --passes 3 --bit_precision 26 --random_seed 17 --oaa 400\\\n",
    "                                       \"$train_part_vw\" --final_regressor \"$model\""
   ]
  },
  {
   "cell_type": "markdown",
   "metadata": {},
   "source": [
    "Прогнозы модели на отложенной выборке:"
   ]
  },
  {
   "cell_type": "code",
   "execution_count": 34,
   "metadata": {
    "ExecuteTime": {
     "end_time": "2019-10-16T12:23:41.248279Z",
     "start_time": "2019-10-16T12:23:40.501078Z"
    }
   },
   "outputs": [
    {
     "name": "stdout",
     "output_type": "stream",
     "text": [
      "only testing\n",
      "predictions = data/vw_pred.csv\n",
      "Num weight bits = 26\n",
      "learning rate = 0.5\n",
      "initial_t = 0\n",
      "power_t = 0.5\n",
      "using no cache\n",
      "Reading datafile = data/valid.vw\n",
      "num sources = 1\n",
      "average  since         example        example  current  current  current\n",
      "loss     last          counter         weight    label  predict features\n",
      "1.000000 1.000000            1            1.0        4      188       11\n",
      "1.000000 1.000000            2            2.0      160      220       11\n",
      "0.750000 0.500000            4            4.0      143      143       11\n",
      "0.750000 0.750000            8            8.0      247      247       11\n",
      "0.687500 0.625000           16           16.0      341       30       11\n",
      "0.593750 0.500000           32           32.0      237      237       11\n",
      "0.609375 0.625000           64           64.0      178      178       11\n",
      "0.640625 0.671875          128          128.0      132      228       11\n",
      "0.656250 0.671875          256          256.0       14       14       11\n",
      "0.646484 0.636719          512          512.0      370      370       11\n",
      "0.663086 0.679688         1024         1024.0      189      189       11\n",
      "0.655762 0.648438         2048         2048.0      311      311       11\n",
      "0.657227 0.658691         4096         4096.0      195      318       11\n",
      "0.660156 0.663086         8192         8192.0      171      195       11\n",
      "0.657654 0.655151        16384        16384.0      362       51       11\n",
      "0.655121 0.652588        32768        32768.0      248      248       11\n",
      "\n",
      "finished run\n",
      "number of examples per pass = 54838\n",
      "passes used = 1\n",
      "weighted example sum = 54838.000000\n",
      "weighted label sum = 0.000000\n",
      "average loss = 0.654583\n",
      "total feature number = 603218\n"
     ]
    }
   ],
   "source": [
    "!vw --initial_regressor \"$model\" --testonly --data \"$valid_vw\" --predictions \"$pred\""
   ]
  },
  {
   "cell_type": "code",
   "execution_count": 35,
   "metadata": {
    "ExecuteTime": {
     "end_time": "2019-10-16T12:23:41.371676Z",
     "start_time": "2019-10-16T12:23:41.251178Z"
    }
   },
   "outputs": [
    {
     "name": "stdout",
     "output_type": "stream",
     "text": [
      "Доля верных ответов модели Vowpal Wabbit на отложенной выборке: 0.345\n"
     ]
    }
   ],
   "source": [
    "print('Доля верных ответов модели Vowpal Wabbit на отложенной выборке: %.3f' %\n",
    "       accuracy_score(y_valid_for_vw, np.loadtxt(pred, np.int64)) )"
   ]
  },
  {
   "cell_type": "markdown",
   "metadata": {},
   "source": [
    "Сравним результат Vowpal Wabbit с алгоритмами библиотеки Scikit-learn:"
   ]
  },
  {
   "cell_type": "code",
   "execution_count": 36,
   "metadata": {
    "ExecuteTime": {
     "end_time": "2019-10-16T12:35:26.265703Z",
     "start_time": "2019-10-16T12:23:41.373297Z"
    }
   },
   "outputs": [
    {
     "name": "stdout",
     "output_type": "stream",
     "text": [
      "Доля верных ответов SGDClassifier на отложенной выборке: 0.291\n",
      "Доля верных ответов LogisticRegression на отложенной выборке: 0.363\n"
     ]
    }
   ],
   "source": [
    "print('Доля верных ответов SGDClassifier на отложенной выборке: %.3f' %\n",
    "       accuracy_score(y_valid, SGDClassifier(loss='log', random_state=17, max_iter=3, n_jobs=-1)\\\n",
    "                           .fit(X_train_part_sparse, y_train_part).predict(X_valid_sparse)) )\n",
    "\n",
    "print('Доля верных ответов LogisticRegression на отложенной выборке: %.3f'%\n",
    "       accuracy_score(y_valid, LogisticRegression(random_state=17, solver='lbfgs', n_jobs=-1)\\\n",
    "                           .fit(X_train_part_sparse, y_train_part).predict(X_valid_sparse)) )"
   ]
  },
  {
   "cell_type": "markdown",
   "metadata": {},
   "source": [
    "Логистическая регрессия показывает наибольшую долю верных ответов, далее с небольшим отставанием идёт модель Vowpal Wabbit. При этом время обучения логистической регрессии из Scikit-learn составляет около 12 минут, а время обучения модели Vowpal Wabbit - около 12 секунд. Эта разница может быть гораздо больше."
   ]
  },
  {
   "cell_type": "markdown",
   "metadata": {},
   "source": [
    "# Kaggle pipeline solution"
   ]
  },
  {
   "cell_type": "code",
   "execution_count": 37,
   "metadata": {
    "ExecuteTime": {
     "end_time": "2019-10-16T12:35:26.272959Z",
     "start_time": "2019-10-16T12:35:26.267957Z"
    }
   },
   "outputs": [],
   "source": [
    "'''\n",
    "This solution gives Public Score 0.96038\n",
    "'''\n",
    "\n",
    "import os\n",
    "import pickle\n",
    "import numpy as np\n",
    "import pandas as pd\n",
    "import time\n",
    "from contextlib import contextmanager\n",
    "from scipy.sparse import hstack\n",
    "from sklearn.feature_extraction.text import TfidfVectorizer\n",
    "from sklearn.preprocessing import StandardScaler\n",
    "from sklearn.model_selection import TimeSeriesSplit, cross_val_score, GridSearchCV\n",
    "from sklearn.metrics import roc_auc_score\n",
    "from sklearn.linear_model import LogisticRegression\n",
    "import warnings\n",
    "warnings.filterwarnings('ignore')\n",
    "\n",
    "\n",
    "PATH_TO_DATA = '../input'\n",
    "AUTHOR = 'Pavel_Peskov'\n",
    "\n",
    "SEED = 17\n",
    "N_JOBS = 4\n",
    "NUM_TIME_SPLITS = 10    # for time-based cross-validation\n",
    "SITE_NGRAMS = (1, 5)    # site ngrams for \"bag of sites\"\n",
    "MAX_FEATURES = 50000    # max features for \"bag of sites\"\n",
    "LOGIT_C = 3  \n",
    "\n",
    "# report running times\n",
    "@contextmanager\n",
    "def timer(name):\n",
    "    t0 = time.time()\n",
    "    yield\n",
    "    print(f'[{name}] done in {time.time() - t0:.0f} s')\n",
    "    \n",
    "\n",
    "def prepare_sparse_features(path_to_train, path_to_test, path_to_site_dict,\n",
    "                           vectorizer_params):\n",
    "    times = ['time%s' % i for i in range(1, 11)]\n",
    "    train_df = pd.read_csv(path_to_train,\n",
    "                       index_col='session_id', parse_dates=times)\n",
    "    test_df = pd.read_csv(path_to_test,\n",
    "                      index_col='session_id', parse_dates=times)\n",
    "\n",
    "    # Sort the data by time\n",
    "    train_df = train_df.sort_values(by='time1')\n",
    "    \n",
    "    # read site -> id mapping provided by competition organizers \n",
    "    with open(path_to_site_dict, 'rb') as f:\n",
    "        site2id = pickle.load(f)\n",
    "    # create an inverse id _> site mapping\n",
    "    id2site = {v:k for (k, v) in site2id.items()}\n",
    "    # we treat site with id 0 as \"unknown\"\n",
    "    id2site[0] = 'unknown'\n",
    "    \n",
    "    # Transform data into format which can be fed into TfidfVectorizer\n",
    "    # This time we prefer to represent sessions with site names, not site ids. \n",
    "    # It's less efficient but thus it'll be more convenient to interpret model weights.\n",
    "    sites = ['site%s' % i for i in range(1, 11)]\n",
    "    train_sessions = train_df[sites].fillna(0).astype('int').apply(lambda row: \n",
    "                                                     ' '.join([id2site[i] for i in row]), axis=1).tolist()\n",
    "    test_sessions = test_df[sites].fillna(0).astype('int').apply(lambda row: \n",
    "                                                     ' '.join([id2site[i] for i in row]), axis=1).tolist()\n",
    "    # we'll tell TfidfVectorizer that we'd like to split data by whitespaces only \n",
    "    # so that it doesn't split by dots (we wouldn't like to have 'mail.google.com' \n",
    "    # to be split into 'mail', 'google' and 'com')\n",
    "    vectorizer = TfidfVectorizer(**vectorizer_params)\n",
    "    X_train = vectorizer.fit_transform(train_sessions)\n",
    "    X_test = vectorizer.transform(test_sessions)\n",
    "    y_train = train_df['target'].astype('int').values\n",
    "    \n",
    "    # we'll need site visit times for further feature engineering\n",
    "    train_times, test_times = train_df[times], test_df[times]\n",
    "    \n",
    "    # add scaled duration\n",
    "    train_durations = (train_times.max(axis=1) - train_times.min(axis=1)).astype('timedelta64[ms]').astype('int')\n",
    "    test_durations = (test_times.max(axis=1) - test_times.min(axis=1)).astype('timedelta64[ms]').astype('int')\n",
    "    scaler = StandardScaler()\n",
    "    train_dur_scaled = scaler.fit_transform(train_durations.values.reshape(-1, 1))\n",
    "    test_dur_scaled = scaler.transform(test_durations.values.reshape(-1, 1))\n",
    "    \n",
    "    X_train = hstack([X_train, train_dur_scaled])\n",
    "    X_test = hstack([X_test, test_dur_scaled])\n",
    "    \n",
    "    return X_train, X_test, y_train, vectorizer, train_times, test_times\n",
    "    \n",
    "    \n",
    "def add_features(times, X_sparse):\n",
    "    hour = times['time1'].apply(lambda ts: ts.hour)\n",
    "    day_of_week = times['time1'].apply(lambda t: t.weekday()).values.reshape(-1, 1)\n",
    "    day = ((hour >= 12) & (hour <= 18)).astype('int').values.reshape(-1, 1)\n",
    "    alice_time = (times['time1'].apply(lambda ts: ts.hour in [9, 12, 13, 15, 16, 17, 18])).astype('int').values.reshape(-1,1)\n",
    "    alice_dow = (times['time1'].apply(lambda t: t.weekday() not in [2, 5, 6])).astype('int').values.reshape(-1,1)\n",
    "    month = times['time1'].apply(lambda t: t.month).values.reshape(-1, 1)\n",
    "    year_month = times['time1'].apply(lambda t: 100 * t.year + t.month).values.reshape(-1, 1) / 1e5\n",
    "    \n",
    "    X = hstack([X_sparse, day_of_week, day, alice_time, alice_dow, year_month, month])\n",
    "    return X\n",
    "    \n",
    "    \n",
    "with timer('Building sparse site features'):\n",
    "    X_train_sites, X_test_sites, y_train, vectorizer, train_times, test_times = \\\n",
    "        prepare_sparse_features(\n",
    "            path_to_train=os.path.join(PATH_TO_DATA, 'train_sessions.csv'),\n",
    "            path_to_test=os.path.join(PATH_TO_DATA, 'test_sessions.csv'),\n",
    "            path_to_site_dict=os.path.join(PATH_TO_DATA, 'site_dic.pkl'),\n",
    "            vectorizer_params={'ngram_range': SITE_NGRAMS,\n",
    "                               'max_features': MAX_FEATURES,\n",
    "                               'tokenizer': lambda s: s.split()})\n",
    "                               \n",
    "                               \n",
    "with timer('Building additional features'):\n",
    "    X_train_feat = add_features(train_times, X_train_sites)\n",
    "    X_test_feat = add_features(test_times, X_test_sites)\n",
    "    \n",
    "    \n",
    "with timer('Cross-validation'):\n",
    "    time_split = TimeSeriesSplit(n_splits=NUM_TIME_SPLITS)\n",
    "    logit = LogisticRegression(random_state=SEED, solver='liblinear')\n",
    "\n",
    "    logit_grid_searcher = GridSearchCV(estimator=logit, param_grid={'C':[ LOGIT_C]},\n",
    "                                  scoring='roc_auc', n_jobs=N_JOBS, cv=time_split, verbose=1)\n",
    "    logit_grid_searcher.fit(X_train_feat, y_train)\n",
    "    print('CV score', logit_grid_searcher.best_score_)\n",
    "    \n",
    "    \n",
    "with timer('Test prediction and submission'):\n",
    "    test_pred = logit_grid_searcher.predict_proba(X_test_feat)[:, 1]\n",
    "    pred_df = pd.DataFrame(test_pred, index=np.arange(1, test_pred.shape[0] + 1),\n",
    "                       columns=['target'])\n",
    "    pred_df.to_csv(f'submission_alice_{AUTHOR}.csv', index_label='session_id')"
   ]
  }
 ],
 "metadata": {
  "kernelspec": {
   "display_name": "Python 3",
   "language": "python",
   "name": "python3"
  },
  "language_info": {
   "codemirror_mode": {
    "name": "ipython",
    "version": 3
   },
   "file_extension": ".py",
   "mimetype": "text/x-python",
   "name": "python",
   "nbconvert_exporter": "python",
   "pygments_lexer": "ipython3",
   "version": "3.7.3"
  }
 },
 "nbformat": 4,
 "nbformat_minor": 2
}
