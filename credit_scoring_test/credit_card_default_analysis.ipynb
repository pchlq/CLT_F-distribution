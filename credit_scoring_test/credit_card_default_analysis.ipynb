{
 "cells": [
  {
   "cell_type": "code",
   "execution_count": 1,
   "metadata": {},
   "outputs": [
    {
     "name": "stdout",
     "output_type": "stream",
     "text": [
      "Populating the interactive namespace from numpy and matplotlib\n"
     ]
    }
   ],
   "source": [
    "import numpy as np\n",
    "import pandas as pd\n",
    "\n",
    "import scipy\n",
    "from statsmodels.stats.weightstats import *\n",
    "from statsmodels.stats.proportion import proportion_confint\n",
    "\n",
    "%pylab inline\n",
    "import seaborn as sns"
   ]
  },
  {
   "cell_type": "code",
   "execution_count": 123,
   "metadata": {},
   "outputs": [
    {
     "data": {
      "text/html": [
       "<div>\n",
       "<style scoped>\n",
       "    .dataframe tbody tr th:only-of-type {\n",
       "        vertical-align: middle;\n",
       "    }\n",
       "\n",
       "    .dataframe tbody tr th {\n",
       "        vertical-align: top;\n",
       "    }\n",
       "\n",
       "    .dataframe thead th {\n",
       "        text-align: right;\n",
       "    }\n",
       "</style>\n",
       "<table border=\"1\" class=\"dataframe\">\n",
       "  <thead>\n",
       "    <tr style=\"text-align: right;\">\n",
       "      <th></th>\n",
       "      <th>837</th>\n",
       "      <th>15071</th>\n",
       "      <th>23624</th>\n",
       "      <th>3598</th>\n",
       "      <th>24173</th>\n",
       "    </tr>\n",
       "  </thead>\n",
       "  <tbody>\n",
       "    <tr>\n",
       "      <th>ID</th>\n",
       "      <td>838</td>\n",
       "      <td>15072</td>\n",
       "      <td>23625</td>\n",
       "      <td>3599</td>\n",
       "      <td>24174</td>\n",
       "    </tr>\n",
       "    <tr>\n",
       "      <th>LIMIT_BAL</th>\n",
       "      <td>110000</td>\n",
       "      <td>110000</td>\n",
       "      <td>410000</td>\n",
       "      <td>240000</td>\n",
       "      <td>140000</td>\n",
       "    </tr>\n",
       "    <tr>\n",
       "      <th>SEX</th>\n",
       "      <td>2</td>\n",
       "      <td>1</td>\n",
       "      <td>2</td>\n",
       "      <td>1</td>\n",
       "      <td>1</td>\n",
       "    </tr>\n",
       "    <tr>\n",
       "      <th>EDUCATION</th>\n",
       "      <td>2</td>\n",
       "      <td>2</td>\n",
       "      <td>1</td>\n",
       "      <td>1</td>\n",
       "      <td>2</td>\n",
       "    </tr>\n",
       "    <tr>\n",
       "      <th>MARRIAGE</th>\n",
       "      <td>1</td>\n",
       "      <td>1</td>\n",
       "      <td>2</td>\n",
       "      <td>1</td>\n",
       "      <td>2</td>\n",
       "    </tr>\n",
       "    <tr>\n",
       "      <th>AGE</th>\n",
       "      <td>55</td>\n",
       "      <td>35</td>\n",
       "      <td>31</td>\n",
       "      <td>35</td>\n",
       "      <td>24</td>\n",
       "    </tr>\n",
       "    <tr>\n",
       "      <th>PAY_0</th>\n",
       "      <td>0</td>\n",
       "      <td>1</td>\n",
       "      <td>0</td>\n",
       "      <td>1</td>\n",
       "      <td>0</td>\n",
       "    </tr>\n",
       "    <tr>\n",
       "      <th>PAY_2</th>\n",
       "      <td>0</td>\n",
       "      <td>2</td>\n",
       "      <td>0</td>\n",
       "      <td>0</td>\n",
       "      <td>0</td>\n",
       "    </tr>\n",
       "    <tr>\n",
       "      <th>PAY_3</th>\n",
       "      <td>0</td>\n",
       "      <td>0</td>\n",
       "      <td>0</td>\n",
       "      <td>0</td>\n",
       "      <td>0</td>\n",
       "    </tr>\n",
       "    <tr>\n",
       "      <th>PAY_4</th>\n",
       "      <td>0</td>\n",
       "      <td>0</td>\n",
       "      <td>0</td>\n",
       "      <td>0</td>\n",
       "      <td>0</td>\n",
       "    </tr>\n",
       "    <tr>\n",
       "      <th>PAY_5</th>\n",
       "      <td>0</td>\n",
       "      <td>0</td>\n",
       "      <td>0</td>\n",
       "      <td>0</td>\n",
       "      <td>0</td>\n",
       "    </tr>\n",
       "    <tr>\n",
       "      <th>PAY_6</th>\n",
       "      <td>0</td>\n",
       "      <td>0</td>\n",
       "      <td>0</td>\n",
       "      <td>0</td>\n",
       "      <td>0</td>\n",
       "    </tr>\n",
       "    <tr>\n",
       "      <th>BILL_AMT1</th>\n",
       "      <td>15069</td>\n",
       "      <td>112829</td>\n",
       "      <td>134072</td>\n",
       "      <td>0</td>\n",
       "      <td>103884</td>\n",
       "    </tr>\n",
       "    <tr>\n",
       "      <th>BILL_AMT2</th>\n",
       "      <td>16123</td>\n",
       "      <td>108073</td>\n",
       "      <td>133604</td>\n",
       "      <td>11901</td>\n",
       "      <td>105697</td>\n",
       "    </tr>\n",
       "    <tr>\n",
       "      <th>BILL_AMT3</th>\n",
       "      <td>16850</td>\n",
       "      <td>110313</td>\n",
       "      <td>133882</td>\n",
       "      <td>5736</td>\n",
       "      <td>101636</td>\n",
       "    </tr>\n",
       "    <tr>\n",
       "      <th>BILL_AMT4</th>\n",
       "      <td>17568</td>\n",
       "      <td>108986</td>\n",
       "      <td>135954</td>\n",
       "      <td>1000</td>\n",
       "      <td>97298</td>\n",
       "    </tr>\n",
       "    <tr>\n",
       "      <th>BILL_AMT5</th>\n",
       "      <td>18133</td>\n",
       "      <td>48641</td>\n",
       "      <td>134250</td>\n",
       "      <td>650</td>\n",
       "      <td>77081</td>\n",
       "    </tr>\n",
       "    <tr>\n",
       "      <th>BILL_AMT6</th>\n",
       "      <td>18828</td>\n",
       "      <td>46982</td>\n",
       "      <td>129971</td>\n",
       "      <td>7574</td>\n",
       "      <td>72592</td>\n",
       "    </tr>\n",
       "    <tr>\n",
       "      <th>PAY_AMT1</th>\n",
       "      <td>1600</td>\n",
       "      <td>0</td>\n",
       "      <td>15003</td>\n",
       "      <td>11901</td>\n",
       "      <td>4000</td>\n",
       "    </tr>\n",
       "    <tr>\n",
       "      <th>PAY_AMT2</th>\n",
       "      <td>1300</td>\n",
       "      <td>6307</td>\n",
       "      <td>15877</td>\n",
       "      <td>5758</td>\n",
       "      <td>4000</td>\n",
       "    </tr>\n",
       "    <tr>\n",
       "      <th>PAY_AMT3</th>\n",
       "      <td>1000</td>\n",
       "      <td>5093</td>\n",
       "      <td>30000</td>\n",
       "      <td>0</td>\n",
       "      <td>3800</td>\n",
       "    </tr>\n",
       "    <tr>\n",
       "      <th>PAY_AMT4</th>\n",
       "      <td>1000</td>\n",
       "      <td>2008</td>\n",
       "      <td>14250</td>\n",
       "      <td>150</td>\n",
       "      <td>3000</td>\n",
       "    </tr>\n",
       "    <tr>\n",
       "      <th>PAY_AMT5</th>\n",
       "      <td>1000</td>\n",
       "      <td>2010</td>\n",
       "      <td>9971</td>\n",
       "      <td>7424</td>\n",
       "      <td>3300</td>\n",
       "    </tr>\n",
       "    <tr>\n",
       "      <th>PAY_AMT6</th>\n",
       "      <td>1000</td>\n",
       "      <td>3000</td>\n",
       "      <td>27380</td>\n",
       "      <td>0</td>\n",
       "      <td>2300</td>\n",
       "    </tr>\n",
       "    <tr>\n",
       "      <th>default</th>\n",
       "      <td>0</td>\n",
       "      <td>1</td>\n",
       "      <td>0</td>\n",
       "      <td>0</td>\n",
       "      <td>0</td>\n",
       "    </tr>\n",
       "  </tbody>\n",
       "</table>\n",
       "</div>"
      ],
      "text/plain": [
       "            837     15071   23624   3598    24173\n",
       "ID            838   15072   23625    3599   24174\n",
       "LIMIT_BAL  110000  110000  410000  240000  140000\n",
       "SEX             2       1       2       1       1\n",
       "EDUCATION       2       2       1       1       2\n",
       "MARRIAGE        1       1       2       1       2\n",
       "AGE            55      35      31      35      24\n",
       "PAY_0           0       1       0       1       0\n",
       "PAY_2           0       2       0       0       0\n",
       "PAY_3           0       0       0       0       0\n",
       "PAY_4           0       0       0       0       0\n",
       "PAY_5           0       0       0       0       0\n",
       "PAY_6           0       0       0       0       0\n",
       "BILL_AMT1   15069  112829  134072       0  103884\n",
       "BILL_AMT2   16123  108073  133604   11901  105697\n",
       "BILL_AMT3   16850  110313  133882    5736  101636\n",
       "BILL_AMT4   17568  108986  135954    1000   97298\n",
       "BILL_AMT5   18133   48641  134250     650   77081\n",
       "BILL_AMT6   18828   46982  129971    7574   72592\n",
       "PAY_AMT1     1600       0   15003   11901    4000\n",
       "PAY_AMT2     1300    6307   15877    5758    4000\n",
       "PAY_AMT3     1000    5093   30000       0    3800\n",
       "PAY_AMT4     1000    2008   14250     150    3000\n",
       "PAY_AMT5     1000    2010    9971    7424    3300\n",
       "PAY_AMT6     1000    3000   27380       0    2300\n",
       "default         0       1       0       0       0"
      ]
     },
     "execution_count": 123,
     "metadata": {},
     "output_type": "execute_result"
    }
   ],
   "source": [
    "cred = pd.read_csv('credit_card_default_analysis.csv')\n",
    "cred.sample(5).T"
   ]
  },
  {
   "cell_type": "markdown",
   "metadata": {},
   "source": [
    "#  Размер кредитного лимита (LIMIT_BAL)"
   ]
  },
  {
   "cell_type": "code",
   "execution_count": 3,
   "metadata": {},
   "outputs": [
    {
     "data": {
      "image/png": "[encoded data removed]",
      "text/plain": [
       "<Figure size 905.625x216 with 1 Axes>"
      ]
     },
     "metadata": {},
     "output_type": "display_data"
    }
   ],
   "source": [
    "sns.set_style(\"whitegrid\")\n",
    "plotOne = sns.FacetGrid(cred, hue=\"default\",aspect=4)\n",
    "plotOne.map(sns.kdeplot,'LIMIT_BAL',shade=True)\n",
    "plotOne.set(xlim=(0, cred['LIMIT_BAL'].max()))\n",
    "plotOne.add_legend()\n",
    "plotOne.set_axis_labels('LIMIT_BAL', 'Proportion')\n",
    "plotOne.fig.suptitle('Размер кредитного лимита vs просрочка (Blue = хорошие; Orange = просроченные)');"
   ]
  },
  {
   "cell_type": "markdown",
   "metadata": {},
   "source": [
    "## Интервальная оценка разности медиан на основе bootstrap"
   ]
  },
  {
   "cell_type": "markdown",
   "metadata": {},
   "source": [
    "* $H_0$: медианные значения равны\n",
    "\n",
    "\n",
    "* $H_1$: медианные значения отличаются\n",
    "\n",
    "Проверка гипотез:\n",
    "\n",
    "a) о равенстве медианных значений кредитного лимита с помощью подходящей интервальной оценки"
   ]
  },
  {
   "cell_type": "code",
   "execution_count": 4,
   "metadata": {},
   "outputs": [],
   "source": [
    "def get_bootstrap_samples(data, n_samples):\n",
    "    indices = np.random.randint(0, len(data), (n_samples, len(data)))\n",
    "    samples = data[indices]\n",
    "    return samples\n",
    "\n",
    "def stat_intervals(stat, alpha):\n",
    "    boundaries = np.percentile(stat, [100 * alpha / 2., 100 * (1 - alpha / 2.)])\n",
    "    return boundaries"
   ]
  },
  {
   "cell_type": "code",
   "execution_count": 5,
   "metadata": {},
   "outputs": [],
   "source": [
    "limbal_good = cred.query(\"default == 0\")['LIMIT_BAL'].values\n",
    "limbal_bad = cred.query(\"default == 1\")['LIMIT_BAL'].values"
   ]
  },
  {
   "cell_type": "code",
   "execution_count": 6,
   "metadata": {
    "scrolled": true
   },
   "outputs": [
    {
     "name": "stdout",
     "output_type": "stream",
     "text": [
      "95% confidence interval for the difference between medians [60000. 70000.]\n"
     ]
    }
   ],
   "source": [
    "np.random.seed(0)\n",
    "\n",
    "good_median_scores = map(np.median, get_bootstrap_samples(limbal_good, 100))\n",
    "bad_median_scores = map(np.median, get_bootstrap_samples(limbal_bad, 100))\n",
    "\n",
    "delta_median_scores = map(lambda x: x[1] - x[0], zip(bad_median_scores, good_median_scores))\n",
    "print (\"95% confidence interval for the difference between medians\", stat_intervals(list(delta_median_scores), 0.05))"
   ]
  },
  {
   "cell_type": "markdown",
   "metadata": {},
   "source": [
    "*Интервальная оценка не содержит ноль, похоже, медианы не равны.*"
   ]
  },
  {
   "cell_type": "markdown",
   "metadata": {},
   "source": [
    "## Перестановочный критерий (непараметрический критерий проверки равенства средних)\n",
    "\n",
    "Выборки независимы, так как имеют различные объекты"
   ]
  },
  {
   "cell_type": "markdown",
   "metadata": {},
   "source": [
    "* $H_0\\colon F_{X_1}(x) = F_{X_2}(x)$\n",
    "\n",
    "\n",
    "* $H_1\\colon F_{X_1}(x) = F_{X_2}(x + \\Delta), \\Delta\\neq 0$\n",
    "\n",
    "b) о равенстве распределений с помощью одного из подходящих непараметрических критериев проверки равенства средних"
   ]
  },
  {
   "cell_type": "code",
   "execution_count": 8,
   "metadata": {},
   "outputs": [],
   "source": [
    "def permutation_t_stat_ind(sample1, sample2):\n",
    "    return np.mean(sample1) - np.mean(sample2)\n",
    "\n",
    "def get_random_combinations(n1, n2, max_combinations):\n",
    "    index = list(range(n1 + n2))\n",
    "    indices = set([tuple(index)])\n",
    "    for i in list(range(max_combinations - 1)):\n",
    "        np.random.shuffle(index)\n",
    "        indices.add(tuple(index))\n",
    "    return [(index[:n1], index[n1:]) for index in indices]\n",
    "\n",
    "def permutation_zero_dist_ind(sample1, sample2, max_combinations = None):\n",
    "    joined_sample = np.hstack((sample1, sample2))\n",
    "    n1 = len(sample1)\n",
    "    n = len(joined_sample)\n",
    "    \n",
    "    if max_combinations:\n",
    "        indices = get_random_combinations(n1, len(sample2), max_combinations)\n",
    "    else:\n",
    "        indices = [(list(index), filter(lambda i: i not in index, range(n))) \\\n",
    "                    for index in itertools.combinations(range(n), n1)]\n",
    "    \n",
    "    distr = [joined_sample[list(i[0])].mean() - joined_sample[list(i[1])].mean() \\\n",
    "             for i in indices]\n",
    "    return distr\n",
    "\n",
    "def permutation_test(sample, mean, max_permutations = None, alternative = 'two-sided'):\n",
    "    if alternative not in ('two-sided', 'less', 'greater'):\n",
    "        raise ValueError(\"alternative not recognized\\n\"\n",
    "                         \"should be 'two-sided', 'less' or 'greater'\")\n",
    "    \n",
    "    t_stat = permutation_t_stat_ind(sample, mean)\n",
    "    \n",
    "    zero_distr = permutation_zero_dist_ind(sample, mean, max_permutations)\n",
    "    \n",
    "    if alternative == 'two-sided':\n",
    "        return sum([1. if abs(x) >= abs(t_stat) else 0. for x in zero_distr]) / len(zero_distr)\n",
    "    \n",
    "    if alternative == 'less':\n",
    "        return sum([1. if x <= t_stat else 0. for x in zero_distr]) / len(zero_distr)\n",
    "\n",
    "    if alternative == 'greater':\n",
    "        return sum([1. if x >= t_stat else 0. for x in zero_distr]) / len(zero_distr)"
   ]
  },
  {
   "cell_type": "code",
   "execution_count": 9,
   "metadata": {},
   "outputs": [
    {
     "name": "stdout",
     "output_type": "stream",
     "text": [
      "p-value: 0.001000\n"
     ]
    }
   ],
   "source": [
    "np.random.seed(0)\n",
    "print(\"p-value: %f\" % permutation_test(limbal_good, limbal_bad, 1000))"
   ]
  },
  {
   "cell_type": "markdown",
   "metadata": {},
   "source": [
    "*95% доверительный интервал для разности медиан лежит в промежутке между 60000 и 70000, нулевая гипотеза о равенстве распределений отвергается на уровне значимости 5%. Результат практически значим.*"
   ]
  },
  {
   "cell_type": "markdown",
   "metadata": {},
   "source": [
    "# Пол (SEX)"
   ]
  },
  {
   "cell_type": "code",
   "execution_count": 10,
   "metadata": {},
   "outputs": [
    {
     "name": "stdout",
     "output_type": "stream",
     "text": [
      "Процентное соотношение полов:\n",
      " wemen    0.603733\n",
      "men      0.396267\n",
      "Name: SEX, dtype: float64\n"
     ]
    },
    {
     "data": {
      "image/png": "[encoded data removed]",
      "text/plain": [
       "<Figure size 432x288 with 1 Axes>"
      ]
     },
     "metadata": {},
     "output_type": "display_data"
    }
   ],
   "source": [
    "print('Процентное соотношение полов:\\n', cred.SEX.value_counts(normalize=True).rename({2: 'wemen', 1: 'men'}))\n",
    "sns.set_style(\"whitegrid\")\n",
    "sns.countplot(x='SEX',hue='default',data=cred, palette='gist_rainbow');"
   ]
  },
  {
   "cell_type": "markdown",
   "metadata": {},
   "source": [
    "* $H_0$: Гендерный состав групп не отличается\n",
    "\n",
    "\n",
    "* $H_1$: Гендерный состав отличается"
   ]
  },
  {
   "cell_type": "markdown",
   "metadata": {},
   "source": [
    "## Интервальная оценка. Z-критерий для разности долей (независимые выборки)"
   ]
  },
  {
   "cell_type": "code",
   "execution_count": 16,
   "metadata": {},
   "outputs": [],
   "source": [
    "def proportions_diff_confint_ind(sample1, sample2, alpha = 0.05):    \n",
    "    z = scipy.stats.norm.ppf(1 - alpha / 2.)\n",
    "    \n",
    "    p1 = float(sum(sample1)) / len(sample1)\n",
    "    p2 = float(sum(sample2)) / len(sample2)\n",
    "    \n",
    "    left_boundary = (p1 - p2) - z * np.sqrt(p1 * (1 - p1)/ len(sample1) + p2 * (1 - p2)/ len(sample2))\n",
    "    right_boundary = (p1 - p2) + z * np.sqrt(p1 * (1 - p1)/ len(sample1) + p2 * (1 - p2)/ len(sample2))\n",
    "    \n",
    "    return (left_boundary, right_boundary)"
   ]
  },
  {
   "cell_type": "code",
   "execution_count": 31,
   "metadata": {},
   "outputs": [],
   "source": [
    "good_temp = cred.query('default == 0').SEX==2\n",
    "bad_temp = cred.query('default == 1').SEX==2"
   ]
  },
  {
   "cell_type": "code",
   "execution_count": 32,
   "metadata": {},
   "outputs": [
    {
     "name": "stdout",
     "output_type": "stream",
     "text": [
      "95% confidence interval for a difference between proportions: [0.033635, 0.060548]\n"
     ]
    }
   ],
   "source": [
    "print(\"95%% confidence interval for a difference between proportions: [%f, %f]\" %\\\n",
    "                              proportions_diff_confint_ind(good_temp, bad_temp))"
   ]
  },
  {
   "cell_type": "markdown",
   "metadata": {},
   "source": [
    "*Интервал не содержит ноль, похоже, гендерный состав вернувших и не вернувших кредит отличается.*"
   ]
  },
  {
   "cell_type": "markdown",
   "metadata": {},
   "source": [
    "## Z-критерий для разности долей (независимые выборки)"
   ]
  },
  {
   "cell_type": "code",
   "execution_count": 33,
   "metadata": {},
   "outputs": [],
   "source": [
    "def proportions_diff_z_stat_ind(sample1, sample2):\n",
    "    n1 = len(sample1)\n",
    "    n2 = len(sample2)\n",
    "    \n",
    "    p1 = float(sum(sample1)) / n1\n",
    "    p2 = float(sum(sample2)) / n2 \n",
    "    P = float(p1*n1 + p2*n2) / (n1 + n2)\n",
    "    \n",
    "    return (p1 - p2) / np.sqrt(P * (1 - P) * (1. / n1 + 1. / n2))\n",
    "\n",
    "def proportions_diff_z_test(z_stat, alternative = 'two-sided'):\n",
    "    if alternative not in ('two-sided', 'less', 'greater'):\n",
    "        raise ValueError(\"alternative not recognized\\n\"\n",
    "                         \"should be 'two-sided', 'less' or 'greater'\")\n",
    "    \n",
    "    if alternative == 'two-sided':\n",
    "        return 2 * (1 - scipy.stats.norm.cdf(np.abs(z_stat)))\n",
    "    \n",
    "    if alternative == 'less':\n",
    "        return scipy.stats.norm.cdf(z_stat)\n",
    "\n",
    "    if alternative == 'greater':\n",
    "        return 1 - scipy.stats.norm.cdf(z_stat)"
   ]
  },
  {
   "cell_type": "code",
   "execution_count": 37,
   "metadata": {},
   "outputs": [
    {
     "name": "stdout",
     "output_type": "stream",
     "text": [
      "p-value: 4.472866521609831e-12\n"
     ]
    }
   ],
   "source": [
    "print(\"p-value:\", proportions_diff_z_test(proportions_diff_z_stat_ind(good_temp, bad_temp)))"
   ]
  },
  {
   "cell_type": "markdown",
   "metadata": {},
   "source": [
    "*При уровне значимости 5% гендерный состав группы людей вернувших и не вернувших кредит отличается.*"
   ]
  },
  {
   "cell_type": "markdown",
   "metadata": {},
   "source": [
    "# Образование (EDUCATION)"
   ]
  },
  {
   "cell_type": "code",
   "execution_count": 113,
   "metadata": {},
   "outputs": [
    {
     "data": {
      "text/html": [
       "<div>\n",
       "<style scoped>\n",
       "    .dataframe tbody tr th:only-of-type {\n",
       "        vertical-align: middle;\n",
       "    }\n",
       "\n",
       "    .dataframe tbody tr th {\n",
       "        vertical-align: top;\n",
       "    }\n",
       "\n",
       "    .dataframe thead th {\n",
       "        text-align: right;\n",
       "    }\n",
       "</style>\n",
       "<table border=\"1\" class=\"dataframe\">\n",
       "  <thead>\n",
       "    <tr style=\"text-align: right;\">\n",
       "      <th>default</th>\n",
       "      <th>good</th>\n",
       "      <th>bad</th>\n",
       "      <th>diff</th>\n",
       "      <th>pct_good</th>\n",
       "    </tr>\n",
       "    <tr>\n",
       "      <th>EDUCATION</th>\n",
       "      <th></th>\n",
       "      <th></th>\n",
       "      <th></th>\n",
       "      <th></th>\n",
       "    </tr>\n",
       "  </thead>\n",
       "  <tbody>\n",
       "    <tr>\n",
       "      <th>доктор</th>\n",
       "      <td>14</td>\n",
       "      <td>0</td>\n",
       "      <td>14</td>\n",
       "      <td>100.0%</td>\n",
       "    </tr>\n",
       "    <tr>\n",
       "      <th>магистр</th>\n",
       "      <td>8549</td>\n",
       "      <td>2036</td>\n",
       "      <td>6513</td>\n",
       "      <td>76.18%</td>\n",
       "    </tr>\n",
       "    <tr>\n",
       "      <th>бакалавр</th>\n",
       "      <td>10700</td>\n",
       "      <td>3330</td>\n",
       "      <td>7370</td>\n",
       "      <td>68.88%</td>\n",
       "    </tr>\n",
       "    <tr>\n",
       "      <th>выпускник школы</th>\n",
       "      <td>3680</td>\n",
       "      <td>1237</td>\n",
       "      <td>2443</td>\n",
       "      <td>66.39%</td>\n",
       "    </tr>\n",
       "    <tr>\n",
       "      <th>начальное образование</th>\n",
       "      <td>116</td>\n",
       "      <td>7</td>\n",
       "      <td>109</td>\n",
       "      <td>93.97%</td>\n",
       "    </tr>\n",
       "    <tr>\n",
       "      <th>прочее</th>\n",
       "      <td>262</td>\n",
       "      <td>18</td>\n",
       "      <td>244</td>\n",
       "      <td>93.13%</td>\n",
       "    </tr>\n",
       "    <tr>\n",
       "      <th>нет данных</th>\n",
       "      <td>43</td>\n",
       "      <td>8</td>\n",
       "      <td>35</td>\n",
       "      <td>81.4%</td>\n",
       "    </tr>\n",
       "  </tbody>\n",
       "</table>\n",
       "</div>"
      ],
      "text/plain": [
       "default                 good   bad  diff pct_good\n",
       "EDUCATION                                        \n",
       "доктор                    14     0    14   100.0%\n",
       "магистр                 8549  2036  6513   76.18%\n",
       "бакалавр               10700  3330  7370   68.88%\n",
       "выпускник школы         3680  1237  2443   66.39%\n",
       "начальное образование    116     7   109   93.97%\n",
       "прочее                   262    18   244   93.13%\n",
       "нет данных                43     8    35    81.4%"
      ]
     },
     "execution_count": 113,
     "metadata": {},
     "output_type": "execute_result"
    }
   ],
   "source": [
    "dct_edu = {0: 'доктор', 1: 'магистр', 2: 'бакалавр', 3: 'выпускник школы',\n",
    "           4: 'начальное образование', 5: 'прочее', 6: 'нет данных'}\n",
    "\n",
    "ct = pd.crosstab(cred.EDUCATION, cred.default). \\\n",
    "                rename(columns={0:'good', 1:'bad'},\n",
    "                       index=dct_edu)\n",
    "                    \n",
    "ct.assign(diff = ct.good - ct.bad, \n",
    "          pct_good = np.round((ct.good - ct.bad) / ct.good * 100., 2).map(lambda x: str(x)+'%'))"
   ]
  },
  {
   "cell_type": "code",
   "execution_count": 141,
   "metadata": {},
   "outputs": [
    {
     "data": {
      "image/png": "[encoded data removed]",
      "text/plain": [
       "<Figure size 797.625x504 with 1 Axes>"
      ]
     },
     "metadata": {},
     "output_type": "display_data"
    }
   ],
   "source": [
    "cred_edu = cred.copy()\n",
    "cred_edu.EDUCATION = cred_edu.EDUCATION.map(dct_edu)\n",
    "\n",
    "sns.catplot(y=\"EDUCATION\", hue=\"default\", kind=\"count\",\n",
    "            palette=\"pastel\", edgecolor=\".6\", height=7, \n",
    "            aspect=1.5, data=cred_edu);"
   ]
  },
  {
   "cell_type": "code",
   "execution_count": 64,
   "metadata": {},
   "outputs": [
    {
     "data": {
      "image/png": "[encoded data removed]",
      "text/plain": [
       "<Figure size 432x360 with 1 Axes>"
      ]
     },
     "metadata": {},
     "output_type": "display_data"
    }
   ],
   "source": [
    "prop0 = np.bincount(cred.query(\"default == 0\")['EDUCATION'])*1. / np.bincount(cred.EDUCATION)\n",
    "\n",
    "pylab.figure(figsize = (6,5))\n",
    "pylab.axis([-0.5, 6.5, 0, 1.1])\n",
    "pylab.scatter(range(7), prop0)\n",
    "pylab.title('The rate of repay in each group');"
   ]
  },
  {
   "cell_type": "markdown",
   "metadata": {},
   "source": [
    "*У выпускников школ наибольший проента дефолтов. Далее - бакалавры и магистры.\n",
    "Меньше всего невозвратов у докторов - 0. Далее - \"начальное\", \"прочее\" и \"нет данных\".*"
   ]
  },
  {
   "cell_type": "markdown",
   "metadata": {},
   "source": [
    "## Критерий согласия Пирсона ( $\\chi^2$)"
   ]
  },
  {
   "cell_type": "markdown",
   "metadata": {},
   "source": [
    "* $H_0$: Рассматриваемая величина имеет Равномерное распределение \n",
    "\n",
    "\n",
    "* $H_1$: $H_0$ неверна"
   ]
  },
  {
   "cell_type": "code",
   "execution_count": 145,
   "metadata": {},
   "outputs": [
    {
     "data": {
      "image/png": "[encoded data removed]",
      "text/plain": [
       "<Figure size 864x360 with 2 Axes>"
      ]
     },
     "metadata": {},
     "output_type": "display_data"
    }
   ],
   "source": [
    "observed_frequences = np.bincount(cred.query(\"default == 0\")['EDUCATION'])\n",
    "expected_frequences = prop0.mean() * np.bincount(cred.EDUCATION)\n",
    "\n",
    "pylab.figure(figsize(12, 5))\n",
    "pylab.subplot(1,2,1)\n",
    "pylab.bar(range(7), observed_frequences, color = 'g', label = 'observed_frequences')\n",
    "pylab.legend()\n",
    "\n",
    "pylab.subplot(1,2,2)\n",
    "pylab.bar(range(7), expected_frequences, color = 'grey', label = 'expected_frequences')\n",
    "pylab.legend()\n",
    "\n",
    "pylab.show()"
   ]
  },
  {
   "cell_type": "code",
   "execution_count": 143,
   "metadata": {},
   "outputs": [
    {
     "data": {
      "text/plain": [
       "Power_divergenceResult(statistic=278.7725391716089, pvalue=3.653181595163598e-58)"
      ]
     },
     "execution_count": 143,
     "metadata": {},
     "output_type": "execute_result"
    }
   ],
   "source": [
    "stats.chisquare(observed_frequences, expected_frequences, ddof = 1)"
   ]
  },
  {
   "cell_type": "markdown",
   "metadata": {},
   "source": [
    "*Нулевая гипотеза не принимается на уровне значимости 5%, что говорит о том, что есть отличия между выплатой кредита разными группами. Результат практически значим, так как разница довольно существенная и логически интуитивна.*"
   ]
  },
  {
   "cell_type": "markdown",
   "metadata": {},
   "source": [
    "# Семейное положение (MARRIAGE)"
   ]
  },
  {
   "cell_type": "code",
   "execution_count": 147,
   "metadata": {},
   "outputs": [
    {
     "data": {
      "text/plain": [
       "<matplotlib.axes._subplots.AxesSubplot at 0x316062b0>"
      ]
     },
     "execution_count": 147,
     "metadata": {},
     "output_type": "execute_result"
    },
    {
     "data": {
      "image/png": "[encoded data removed]",
      "text/plain": [
       "<Figure size 864x360 with 1 Axes>"
      ]
     },
     "metadata": {},
     "output_type": "display_data"
    }
   ],
   "source": [
    "dct_marr = {0: 'скрытные', 1: 'женат/замужем', 2: 'холост', 3: 'нет данных'}\n",
    "sns.countplot(x=cred.MARRIAGE.map(dct_marr), hue='default', data=cred);"
   ]
  },
  {
   "cell_type": "markdown",
   "metadata": {},
   "source": [
    "## Коэффициент V Крамера"
   ]
  },
  {
   "cell_type": "code",
   "execution_count": 159,
   "metadata": {},
   "outputs": [
    {
     "name": "stdout",
     "output_type": "stream",
     "text": [
      "Коэффициент V Крамера 0.034478 - близок к нулю. Семейное положение не связано с дефолтом заемщика.\n"
     ]
    }
   ],
   "source": [
    "cm = pd.crosstab(cred.MARRIAGE, cred.default).T\n",
    "n = cred.shape[0]\n",
    "hi2 = stats.chi2_contingency(cm)[0]\n",
    "\n",
    "v_cram = np.sqrt(hi2 / (n * (min(cm.shape)-1)))\n",
    "\n",
    "print('Коэффициент V Крамера %f - близок к нулю. Семейное положение не связано с дефолтом заемщика.' % v_cram)"
   ]
  },
  {
   "cell_type": "markdown",
   "metadata": {},
   "source": [
    "# Возраст (AGE)"
   ]
  },
  {
   "cell_type": "code",
   "execution_count": 174,
   "metadata": {},
   "outputs": [],
   "source": [
    "pylab.hist?"
   ]
  },
  {
   "cell_type": "code",
   "execution_count": 178,
   "metadata": {},
   "outputs": [
    {
     "data": {
      "image/png": "[encoded data removed]",
      "text/plain": [
       "<Figure size 864x360 with 1 Axes>"
      ]
     },
     "metadata": {},
     "output_type": "display_data"
    }
   ],
   "source": [
    "pylab.hist(cred[cred.default == 0].AGE, bins=cred.AGE.nunique(), label='хорошие заемщики')\n",
    "pylab.hist(cred[cred.default == 1].AGE, bins=cred.AGE.nunique(), label='плохие заемщики')\n",
    "pylab.legend(loc = 'best');"
   ]
  },
  {
   "cell_type": "code",
   "execution_count": 163,
   "metadata": {},
   "outputs": [
    {
     "data": {
      "image/png": "[encoded data removed]",
      "text/plain": [
       "<Figure size 776.025x216 with 1 Axes>"
      ]
     },
     "metadata": {},
     "output_type": "display_data"
    }
   ],
   "source": [
    "plotTwo = sns.FacetGrid(cred, hue=\"default\",aspect=3.4)\n",
    "plotTwo.map(sns.kdeplot,'AGE',shade=True)\n",
    "plotTwo.set(xlim=(cred['AGE'].min()-1, cred['AGE'].max()))\n",
    "plotTwo.add_legend()\n",
    "plotTwo.set_axis_labels('AGE', 'Proportion')\n",
    "plotTwo.fig.suptitle('Возраст vs просрочка (Blue = нет; Orange = да)');"
   ]
  },
  {
   "cell_type": "markdown",
   "metadata": {},
   "source": [
    "## Интервальная оценка разности медиан на основе bootstrap"
   ]
  },
  {
   "cell_type": "markdown",
   "metadata": {},
   "source": [
    "*гипотеза:*\n",
    "\n",
    "a) о равенстве медианных значений возрастов людей\n",
    "\n",
    "* $H_0$: медианные значения равны\n",
    "\n",
    "\n",
    "* $H_1$: медианные значения отличаются"
   ]
  },
  {
   "cell_type": "code",
   "execution_count": 179,
   "metadata": {},
   "outputs": [],
   "source": [
    "good_age = cred.query(\"default == 0\")['AGE'].values\n",
    "bad_age = cred.query(\"default == 1\")['AGE'].values"
   ]
  },
  {
   "cell_type": "code",
   "execution_count": 180,
   "metadata": {},
   "outputs": [
    {
     "name": "stdout",
     "output_type": "stream",
     "text": [
      "95% confidence interval for the difference between medians [0. 1.]\n"
     ]
    }
   ],
   "source": [
    "np.random.seed(0)\n",
    "\n",
    "good_median_scores = map(np.median, get_bootstrap_samples(good_age, 100))\n",
    "bad_median_scores = map(np.median, get_bootstrap_samples(bad_age, 100))\n",
    "\n",
    "delta_median_scores = map(lambda x: x[1] - x[0], zip(good_median_scores, bad_median_scores))\n",
    "print (\"95% confidence interval for the difference between medians\", stat_intervals(list(delta_median_scores), 0.05))"
   ]
  },
  {
   "cell_type": "markdown",
   "metadata": {},
   "source": [
    "*Доверительный интервал для разности медиан содержит ноль, поэтому мы не можем отвернуть нулевую гипотезу.*"
   ]
  },
  {
   "cell_type": "markdown",
   "metadata": {},
   "source": [
    "## Перестановочный критерий для независимых выборок (непараметрический критерий проверки равенства средних)"
   ]
  },
  {
   "cell_type": "markdown",
   "metadata": {},
   "source": [
    "*гипотеза:*\n",
    "\n",
    "b) о равенстве распределений с помощью одного из подходящих непараметрических критериев проверки равенства средних. Значимы ли полученные результаты с практической точки зрения?\n",
    "\n",
    "* $H_0\\colon F_{X_1}(x) = F_{X_2}(x)$\n",
    "\n",
    "\n",
    "* $H_1\\colon F_{X_1}(x) = F_{X_2}(x + \\Delta), \\Delta\\neq 0$"
   ]
  },
  {
   "cell_type": "code",
   "execution_count": 184,
   "metadata": {},
   "outputs": [
    {
     "name": "stdout",
     "output_type": "stream",
     "text": [
      "p-value: 0.019000\n"
     ]
    }
   ],
   "source": [
    "np.random.seed(0)\n",
    "print('p-value: %f' % permutation_test(bad_age, good_age, 1000))"
   ]
  },
  {
   "cell_type": "markdown",
   "metadata": {},
   "source": [
    " *Уровень значимости в 5% не позволяет принять нулевую гипотезу о равенстве распределений. Результат практически значим, так как возраст влияет на выдачу кредита клиенту.*"
   ]
  }
 ],
 "metadata": {
  "kernelspec": {
   "display_name": "Python 3",
   "language": "python",
   "name": "python3"
  },
  "language_info": {
   "codemirror_mode": {
    "name": "ipython",
    "version": 3
   },
   "file_extension": ".py",
   "mimetype": "text/x-python",
   "name": "python",
   "nbconvert_exporter": "python",
   "pygments_lexer": "ipython3",
   "version": "3.6.3"
  },
  "toc": {
   "base_numbering": 1,
   "nav_menu": {},
   "number_sections": true,
   "sideBar": true,
   "skip_h1_title": false,
   "title_cell": "Table of Contents",
   "title_sidebar": "Contents",
   "toc_cell": false,
   "toc_position": {},
   "toc_section_display": true,
   "toc_window_display": false
  },
  "varInspector": {
   "cols": {
    "lenName": 16,
    "lenType": 16,
    "lenVar": 40
   },
   "kernels_config": {
    "python": {
     "delete_cmd_postfix": "",
     "delete_cmd_prefix": "del ",
     "library": "var_list.py",
     "varRefreshCmd": "print(var_dic_list())"
    },
    "r": {
     "delete_cmd_postfix": ") ",
     "delete_cmd_prefix": "rm(",
     "library": "var_list.r",
     "varRefreshCmd": "cat(var_dic_list()) "
    }
   },
   "types_to_exclude": [
    "module",
    "function",
    "builtin_function_or_method",
    "instance",
    "_Feature"
   ],
   "window_display": false
  }
 },
 "nbformat": 4,
 "nbformat_minor": 2
}
